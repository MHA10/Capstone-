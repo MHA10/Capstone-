{
 "cells": [
  {
   "cell_type": "markdown",
   "metadata": {},
   "source": [
    "# Capstone Project - The Battle of Neighborhoods"
   ]
  },
  {
   "cell_type": "markdown",
   "metadata": {},
   "source": [
    "### Introduction\n",
    "\n",
    "New York City, being the largest city in United States has a long history of immigration. The city is growing rapidly and accomodates large number of legal immigrants admitted into the United States.\n",
    "\n",
    "It is a densly populated area by the immigrants, especially the Lower East Side. It also has great diveristy in languages, howeeve, English is the most widely spoken language.\n",
    "\n",
    "Diversity in culture leads to diversity in food items and hence food restaurants. There are many resturants in New york City, each beloning to different categories like Chinese , Japanese , French etc.\n",
    "\n",
    "The aim of this project is to list and visualize parts of New York City with some really good Japanese restaurants."
   ]
  },
  {
   "cell_type": "markdown",
   "metadata": {},
   "source": [
    "### Data \n",
    "For this project we need the following data :\n",
    "<ul>\n",
    "<li> New York City data that contains list Boroughs, Neighborhoods along with their latitude and longitude.\n",
    "    <ul>\n",
    "        <li>Data source : https://cocl.us/new_york_dataset\n",
    "        <li> Description : This data set contains the required information. And we will use this data set to explore various neighborhoods of new york city.\n",
    "     </ul>\n",
    "<li> Japanese resturants in each neighborhood of new york city.\n",
    "        <ul>\n",
    "        <li>Data source : Fousquare API\n",
    "        <li> Description : By using this api we will get all the venues in each neighborhood. We can filter these venues to get only Japanese resturants.\n",
    "     </ul>\n",
    "<li> GeoSpace data\n",
    "          <ul>\n",
    "        <li>Data source : https://data.cityofnewyork.us/City-Government/Borough-Boundaries/tqmj-j8zm\n",
    "        <li> Description : By using this geo space data we will get the New york Borough boundaries that will help us visualize choropleth map.\n",
    "  \n",
    "</ul>"
   ]
  },
  {
   "cell_type": "markdown",
   "metadata": {},
   "source": [
    "### Approach\n",
    "- Collect the new york city data from https://cocl.us/new_york_dataset\n",
    "- Using FourSquare API we will find all venues for each neighborhood.\n",
    "- Filter out all venues that are Japanese Resturants.\n",
    "- Find rating , tips and like count for each Japanese Resturants using FourSquare API.\n",
    "- Using rating for each resturant , we will sort that data.\n",
    "- Visualize the Ranking of neighborhoods using folium library(python)"
   ]
  },
  {
   "cell_type": "markdown",
   "metadata": {},
   "source": [
    "### Questions that can be asked using the above mentioned datasets\n",
    "- What is best location in New York City for Japanese Cuisine ? \n",
    "- Which areas have potential Japanese Resturant Market ? \n",
    "- Which all areas lack Japanese Resturants ?\n",
    "- Which is the best place to stay if I prefer Japanese Cuisine ?"
   ]
  },
  {
   "cell_type": "markdown",
   "metadata": {},
   "source": [
    "### Analysis"
   ]
  },
  {
   "cell_type": "markdown",
   "metadata": {},
   "source": [
    "We will import the required libraries for python.\n",
    "\n",
    "- pandas and numpy for handling data.\n",
    "- request module for using FourSquare API.\n",
    "- geopy to get co-ordinates of City of New York.\n",
    "- folium to visualize the results on a map"
   ]
  },
  {
   "cell_type": "code",
   "execution_count": 1,
   "metadata": {},
   "outputs": [
    {
     "name": "stdout",
     "output_type": "stream",
     "text": [
      "Collecting geocoder\n",
      "\u001b[?25l  Downloading https://files.pythonhosted.org/packages/4f/6b/13166c909ad2f2d76b929a4227c952630ebaf0d729f6317eb09cbceccbab/geocoder-1.38.1-py2.py3-none-any.whl (98kB)\n",
      "\u001b[K     |████████████████████████████████| 102kB 1.2MB/s ta 0:00:01\n",
      "\u001b[?25hRequirement already satisfied: click in /opt/conda/envs/Python36/lib/python3.6/site-packages (from geocoder) (7.0)\n",
      "Requirement already satisfied: requests in /opt/conda/envs/Python36/lib/python3.6/site-packages (from geocoder) (2.21.0)\n",
      "Requirement already satisfied: six in /opt/conda/envs/Python36/lib/python3.6/site-packages (from geocoder) (1.12.0)\n",
      "Collecting ratelim (from geocoder)\n",
      "  Downloading https://files.pythonhosted.org/packages/f2/98/7e6d147fd16a10a5f821db6e25f192265d6ecca3d82957a4fdd592cad49c/ratelim-0.1.6-py2.py3-none-any.whl\n",
      "Requirement already satisfied: future in /opt/conda/envs/Python36/lib/python3.6/site-packages (from geocoder) (0.17.1)\n",
      "Requirement already satisfied: certifi>=2017.4.17 in /opt/conda/envs/Python36/lib/python3.6/site-packages (from requests->geocoder) (2019.6.16)\n",
      "Requirement already satisfied: chardet<3.1.0,>=3.0.2 in /opt/conda/envs/Python36/lib/python3.6/site-packages (from requests->geocoder) (3.0.4)\n",
      "Requirement already satisfied: idna<2.9,>=2.5 in /opt/conda/envs/Python36/lib/python3.6/site-packages (from requests->geocoder) (2.8)\n",
      "Requirement already satisfied: urllib3<1.25,>=1.21.1 in /opt/conda/envs/Python36/lib/python3.6/site-packages (from requests->geocoder) (1.24.1)\n",
      "Requirement already satisfied: decorator in /opt/conda/envs/Python36/lib/python3.6/site-packages (from ratelim->geocoder) (4.3.2)\n",
      "Installing collected packages: ratelim, geocoder\n",
      "Successfully installed geocoder-1.38.1 ratelim-0.1.6\n"
     ]
    }
   ],
   "source": [
    "!pip install geocoder"
   ]
  },
  {
   "cell_type": "code",
   "execution_count": 2,
   "metadata": {},
   "outputs": [
    {
     "name": "stdout",
     "output_type": "stream",
     "text": [
      "Collecting folium\n",
      "\u001b[?25l  Downloading https://files.pythonhosted.org/packages/72/ff/004bfe344150a064e558cb2aedeaa02ecbf75e60e148a55a9198f0c41765/folium-0.10.0-py2.py3-none-any.whl (91kB)\n",
      "\u001b[K     |████████████████████████████████| 92kB 1.1MB/s eta 0:00:01\n",
      "\u001b[?25hRequirement already satisfied: requests in /opt/conda/envs/Python36/lib/python3.6/site-packages (from folium) (2.21.0)\n",
      "Requirement already satisfied: jinja2>=2.9 in /opt/conda/envs/Python36/lib/python3.6/site-packages (from folium) (2.10)\n",
      "Collecting branca>=0.3.0 (from folium)\n",
      "  Downloading https://files.pythonhosted.org/packages/63/36/1c93318e9653f4e414a2e0c3b98fc898b4970e939afeedeee6075dd3b703/branca-0.3.1-py3-none-any.whl\n",
      "Requirement already satisfied: numpy in /opt/conda/envs/Python36/lib/python3.6/site-packages (from folium) (1.15.4)\n",
      "Requirement already satisfied: urllib3<1.25,>=1.21.1 in /opt/conda/envs/Python36/lib/python3.6/site-packages (from requests->folium) (1.24.1)\n",
      "Requirement already satisfied: certifi>=2017.4.17 in /opt/conda/envs/Python36/lib/python3.6/site-packages (from requests->folium) (2019.6.16)\n",
      "Requirement already satisfied: chardet<3.1.0,>=3.0.2 in /opt/conda/envs/Python36/lib/python3.6/site-packages (from requests->folium) (3.0.4)\n",
      "Requirement already satisfied: idna<2.9,>=2.5 in /opt/conda/envs/Python36/lib/python3.6/site-packages (from requests->folium) (2.8)\n",
      "Requirement already satisfied: MarkupSafe>=0.23 in /opt/conda/envs/Python36/lib/python3.6/site-packages (from jinja2>=2.9->folium) (1.1.0)\n",
      "Requirement already satisfied: six in /opt/conda/envs/Python36/lib/python3.6/site-packages (from branca>=0.3.0->folium) (1.12.0)\n",
      "Installing collected packages: branca, folium\n",
      "Successfully installed branca-0.3.1 folium-0.10.0\n"
     ]
    }
   ],
   "source": [
    "!pip install folium"
   ]
  },
  {
   "cell_type": "code",
   "execution_count": 3,
   "metadata": {},
   "outputs": [],
   "source": [
    "import pandas as pd\n",
    "import numpy as np\n",
    "pd.set_option('display.max_columns', None)\n",
    "pd.set_option('display.max_rows', None)\n",
    "import requests\n",
    "from bs4 import BeautifulSoup\n",
    "import geocoder\n",
    "import os\n",
    "import folium \n",
    "from geopy.geocoders import Nominatim \n",
    "\n",
    "import matplotlib.pyplot as plt\n",
    "import matplotlib.cm as cm\n",
    "import matplotlib.colors as colors\n",
    "%matplotlib inline"
   ]
  },
  {
   "cell_type": "code",
   "execution_count": 4,
   "metadata": {},
   "outputs": [],
   "source": [
    "def geo_location(address):\n",
    "   \n",
    "    geolocator = Nominatim(user_agent=\"ny_explorer\")\n",
    "    location = geolocator.geocode(address)\n",
    "    latitude = location.latitude\n",
    "    longitude = location.longitude\n",
    "    return latitude,longitude"
   ]
  },
  {
   "cell_type": "markdown",
   "metadata": {},
   "source": [
    "We define a function to intract with FourSquare API and get top 100 venues within a radius of 1000 metres for a given  latitude and longitude. Below function will return us the venue id , venue name and category."
   ]
  },
  {
   "cell_type": "code",
   "execution_count": 5,
   "metadata": {},
   "outputs": [],
   "source": [
    "def get_venues(lat,lng):\n",
    "    \n",
    "    \n",
    "    radius=1000\n",
    "    LIMIT=100\n",
    "    CLIENT_ID = 'OX13HQ3GH2D4BAACDFXPF2CCBAQVFT0T5BCS3IB20SLJXBY0' \n",
    "    CLIENT_SECRET = 'SRV5VH1V04R4PKDWBF2WKPNK2WOTR2YOSL0AYEIV5KHYHWO5'\n",
    "    VERSION = '20180605' \n",
    "    \n",
    "    \n",
    "    url = 'https://api.foursquare.com/v2/venues/explore?&client_id={}&client_secret={}&v={}&ll={},{}&radius={}&limit={}'.format(\n",
    "            CLIENT_ID, \n",
    "            CLIENT_SECRET, \n",
    "            VERSION, \n",
    "            lat, \n",
    "            lng, \n",
    "            radius, \n",
    "            LIMIT)\n",
    "    \n",
    "    \n",
    "    results = requests.get(url).json()\n",
    "    venue_data=results[\"response\"]['groups'][0]['items']\n",
    "    venue_details=[]\n",
    "    for row in venue_data:\n",
    "        try:\n",
    "            venue_id=row['venue']['id']\n",
    "            venue_name=row['venue']['name']\n",
    "            venue_category=row['venue']['categories'][0]['name']\n",
    "            venue_details.append([venue_id,venue_name,venue_category])\n",
    "        except KeyError:\n",
    "            pass\n",
    "        \n",
    "    column_names=['ID','Name','Category']\n",
    "    df = pd.DataFrame(venue_details,columns=column_names)\n",
    "    return df\n",
    "    "
   ]
  },
  {
   "cell_type": "markdown",
   "metadata": {},
   "source": [
    "Now we will define a function to get venue details like like count , rating , tip counts for a given venue id.\n",
    "This will be used for ranking."
   ]
  },
  {
   "cell_type": "code",
   "execution_count": 6,
   "metadata": {},
   "outputs": [],
   "source": [
    "def get_venue_details(venue_id):\n",
    "        \n",
    "    CLIENT_ID = 'OX13HQ3GH2D4BAACDFXPF2CCBAQVFT0T5BCS3IB20SLJXBY0' \n",
    "    CLIENT_SECRET = 'SRV5VH1V04R4PKDWBF2WKPNK2WOTR2YOSL0AYEIV5KHYHWO5'\n",
    "    VERSION = '20180605' \n",
    "    \n",
    "    \n",
    "    url = 'https://api.foursquare.com/v2/venues/{}?&client_id={}&client_secret={}&v={}'.format(\n",
    "            venue_id,\n",
    "            CLIENT_ID, \n",
    "            CLIENT_SECRET, \n",
    "            VERSION)\n",
    "    \n",
    "    \n",
    "    results = requests.get(url).json()\n",
    "    venue_data=results['response']['venue']\n",
    "    venue_details=[]\n",
    "    try:\n",
    "        venue_id=venue_data['id']\n",
    "        venue_name=venue_data['name']\n",
    "        venue_likes=venue_data['likes']['count']\n",
    "        venue_rating=venue_data['rating']\n",
    "        venue_tips=venue_data['tips']['count']\n",
    "        venue_details.append([venue_id,venue_name,venue_likes,venue_rating,venue_tips])\n",
    "    except KeyError:\n",
    "        pass\n",
    "        \n",
    "    column_names=['ID','Name','Likes','Rating','Tips']\n",
    "    df = pd.DataFrame(venue_details,columns=column_names)\n",
    "    return df\n"
   ]
  },
  {
   "cell_type": "markdown",
   "metadata": {},
   "source": [
    "Now we define a funtion to get the new york city data such as Boroughs, Neighborhoods along with their latitude and longitude."
   ]
  },
  {
   "cell_type": "code",
   "execution_count": 7,
   "metadata": {},
   "outputs": [],
   "source": [
    "def get_new_york_data():\n",
    "    url='https://cocl.us/new_york_dataset'\n",
    "    resp=requests.get(url).json()\n",
    "    \n",
    "    features=resp['features']\n",
    "    \n",
    "    \n",
    "    column_names = ['Borough', 'Neighborhood', 'Latitude', 'Longitude'] \n",
    "    \n",
    "    new_york_data = pd.DataFrame(columns=column_names)\n",
    "    \n",
    "    for data in features:\n",
    "        borough = data['properties']['borough'] \n",
    "        neighborhood_name = data['properties']['name']\n",
    "        \n",
    "        neighborhood_latlon = data['geometry']['coordinates']\n",
    "        neighborhood_lat = neighborhood_latlon[1]\n",
    "        neighborhood_lon = neighborhood_latlon[0]\n",
    "    \n",
    "        new_york_data = new_york_data.append({'Borough': borough,\n",
    "                                          'Neighborhood': neighborhood_name,\n",
    "                                          'Latitude': neighborhood_lat,\n",
    "                                          'Longitude': neighborhood_lon}, ignore_index=True)\n",
    "    \n",
    "    return new_york_data"
   ]
  },
  {
   "cell_type": "markdown",
   "metadata": {},
   "source": [
    "We will call the above funtion to get the new york city data."
   ]
  },
  {
   "cell_type": "code",
   "execution_count": 8,
   "metadata": {},
   "outputs": [],
   "source": [
    "new_york_data=get_new_york_data()"
   ]
  },
  {
   "cell_type": "code",
   "execution_count": 9,
   "metadata": {},
   "outputs": [
    {
     "data": {
      "text/html": [
       "<div>\n",
       "<style scoped>\n",
       "    .dataframe tbody tr th:only-of-type {\n",
       "        vertical-align: middle;\n",
       "    }\n",
       "\n",
       "    .dataframe tbody tr th {\n",
       "        vertical-align: top;\n",
       "    }\n",
       "\n",
       "    .dataframe thead th {\n",
       "        text-align: right;\n",
       "    }\n",
       "</style>\n",
       "<table border=\"1\" class=\"dataframe\">\n",
       "  <thead>\n",
       "    <tr style=\"text-align: right;\">\n",
       "      <th></th>\n",
       "      <th>Borough</th>\n",
       "      <th>Neighborhood</th>\n",
       "      <th>Latitude</th>\n",
       "      <th>Longitude</th>\n",
       "    </tr>\n",
       "  </thead>\n",
       "  <tbody>\n",
       "    <tr>\n",
       "      <th>0</th>\n",
       "      <td>Bronx</td>\n",
       "      <td>Wakefield</td>\n",
       "      <td>40.894705</td>\n",
       "      <td>-73.847201</td>\n",
       "    </tr>\n",
       "    <tr>\n",
       "      <th>1</th>\n",
       "      <td>Bronx</td>\n",
       "      <td>Co-op City</td>\n",
       "      <td>40.874294</td>\n",
       "      <td>-73.829939</td>\n",
       "    </tr>\n",
       "    <tr>\n",
       "      <th>2</th>\n",
       "      <td>Bronx</td>\n",
       "      <td>Eastchester</td>\n",
       "      <td>40.887556</td>\n",
       "      <td>-73.827806</td>\n",
       "    </tr>\n",
       "    <tr>\n",
       "      <th>3</th>\n",
       "      <td>Bronx</td>\n",
       "      <td>Fieldston</td>\n",
       "      <td>40.895437</td>\n",
       "      <td>-73.905643</td>\n",
       "    </tr>\n",
       "    <tr>\n",
       "      <th>4</th>\n",
       "      <td>Bronx</td>\n",
       "      <td>Riverdale</td>\n",
       "      <td>40.890834</td>\n",
       "      <td>-73.912585</td>\n",
       "    </tr>\n",
       "  </tbody>\n",
       "</table>\n",
       "</div>"
      ],
      "text/plain": [
       "  Borough Neighborhood   Latitude  Longitude\n",
       "0   Bronx    Wakefield  40.894705 -73.847201\n",
       "1   Bronx   Co-op City  40.874294 -73.829939\n",
       "2   Bronx  Eastchester  40.887556 -73.827806\n",
       "3   Bronx    Fieldston  40.895437 -73.905643\n",
       "4   Bronx    Riverdale  40.890834 -73.912585"
      ]
     },
     "execution_count": 9,
     "metadata": {},
     "output_type": "execute_result"
    }
   ],
   "source": [
    "new_york_data.head()"
   ]
  },
  {
   "cell_type": "code",
   "execution_count": 10,
   "metadata": {},
   "outputs": [
    {
     "data": {
      "text/plain": [
       "(306, 4)"
      ]
     },
     "execution_count": 10,
     "metadata": {},
     "output_type": "execute_result"
    }
   ],
   "source": [
    "new_york_data.shape"
   ]
  },
  {
   "cell_type": "markdown",
   "metadata": {},
   "source": [
    "So there are total of 306 different Neighborhoods in New York"
   ]
  },
  {
   "cell_type": "code",
   "execution_count": 11,
   "metadata": {},
   "outputs": [
    {
     "data": {
      "image/png": "[encoded data removed]",
      "text/plain": [
       "<Figure size 900x500 with 1 Axes>"
      ]
     },
     "metadata": {
      "needs_background": "light"
     },
     "output_type": "display_data"
    }
   ],
   "source": [
    "plt.figure(figsize=(9,5), dpi = 100)\n",
    "\n",
    "plt.title('Number of Neighborhood for each Borough in New York City')\n",
    "\n",
    "plt.xlabel('Borough', fontsize = 15)\n",
    "\n",
    "plt.ylabel('No.of Neighborhood', fontsize=15)\n",
    "\n",
    "new_york_data.groupby('Borough')['Neighborhood'].count().plot(kind='bar')\n",
    "\n",
    "plt.legend()\n",
    "\n",
    "plt.show()"
   ]
  },
  {
   "cell_type": "code",
   "execution_count": 12,
   "metadata": {},
   "outputs": [
    {
     "name": "stdout",
     "output_type": "stream",
     "text": [
      "( 1 / 306 ) Japanese Resturants in Wakefield, Bronx:0\n",
      "( 2 / 306 ) Japanese Resturants in Co-op City, Bronx:0\n",
      "( 3 / 306 ) Japanese Resturants in Eastchester, Bronx:0\n",
      "( 4 / 306 ) Japanese Resturants in Fieldston, Bronx:0\n",
      "( 5 / 306 ) Japanese Resturants in Riverdale, Bronx:2\n",
      "( 6 / 306 ) Japanese Resturants in Kingsbridge, Bronx:2\n",
      "( 7 / 306 ) Japanese Resturants in Marble Hill, Manhattan:0\n",
      "( 8 / 306 ) Japanese Resturants in Woodlawn, Bronx:0\n",
      "( 9 / 306 ) Japanese Resturants in Norwood, Bronx:0\n",
      "( 10 / 306 ) Japanese Resturants in Williamsbridge, Bronx:0\n",
      "( 11 / 306 ) Japanese Resturants in Baychester, Bronx:0\n",
      "( 12 / 306 ) Japanese Resturants in Pelham Parkway, Bronx:0\n",
      "( 13 / 306 ) Japanese Resturants in City Island, Bronx:1\n",
      "( 14 / 306 ) Japanese Resturants in Bedford Park, Bronx:0\n",
      "( 15 / 306 ) Japanese Resturants in University Heights, Bronx:0\n",
      "( 16 / 306 ) Japanese Resturants in Morris Heights, Bronx:0\n",
      "( 17 / 306 ) Japanese Resturants in Fordham, Bronx:0\n",
      "( 18 / 306 ) Japanese Resturants in East Tremont, Bronx:0\n",
      "( 19 / 306 ) Japanese Resturants in West Farms, Bronx:0\n",
      "( 20 / 306 ) Japanese Resturants in High  Bridge, Bronx:0\n",
      "( 21 / 306 ) Japanese Resturants in Melrose, Bronx:0\n",
      "( 22 / 306 ) Japanese Resturants in Mott Haven, Bronx:0\n",
      "( 23 / 306 ) Japanese Resturants in Port Morris, Bronx:0\n",
      "( 24 / 306 ) Japanese Resturants in Longwood, Bronx:0\n",
      "( 25 / 306 ) Japanese Resturants in Hunts Point, Bronx:0\n",
      "( 26 / 306 ) Japanese Resturants in Morrisania, Bronx:0\n",
      "( 27 / 306 ) Japanese Resturants in Soundview, Bronx:0\n",
      "( 28 / 306 ) Japanese Resturants in Clason Point, Bronx:0\n",
      "( 29 / 306 ) Japanese Resturants in Throgs Neck, Bronx:0\n",
      "( 30 / 306 ) Japanese Resturants in Country Club, Bronx:0\n",
      "( 31 / 306 ) Japanese Resturants in Parkchester, Bronx:0\n",
      "( 32 / 306 ) Japanese Resturants in Westchester Square, Bronx:0\n",
      "( 33 / 306 ) Japanese Resturants in Van Nest, Bronx:0\n",
      "( 34 / 306 ) Japanese Resturants in Morris Park, Bronx:0\n",
      "( 35 / 306 ) Japanese Resturants in Belmont, Bronx:0\n",
      "( 36 / 306 ) Japanese Resturants in Spuyten Duyvil, Bronx:2\n",
      "( 37 / 306 ) Japanese Resturants in North Riverdale, Bronx:0\n",
      "( 38 / 306 ) Japanese Resturants in Pelham Bay, Bronx:0\n",
      "( 39 / 306 ) Japanese Resturants in Schuylerville, Bronx:1\n",
      "( 40 / 306 ) Japanese Resturants in Edgewater Park, Bronx:1\n",
      "( 41 / 306 ) Japanese Resturants in Castle Hill, Bronx:1\n",
      "( 42 / 306 ) Japanese Resturants in Olinville, Bronx:0\n",
      "( 43 / 306 ) Japanese Resturants in Pelham Gardens, Bronx:0\n",
      "( 44 / 306 ) Japanese Resturants in Concourse, Bronx:0\n",
      "( 45 / 306 ) Japanese Resturants in Unionport, Bronx:0\n",
      "( 46 / 306 ) Japanese Resturants in Edenwald, Bronx:0\n",
      "( 47 / 306 ) Japanese Resturants in Bay Ridge, Brooklyn:2\n",
      "( 48 / 306 ) Japanese Resturants in Bensonhurst, Brooklyn:4\n",
      "( 49 / 306 ) Japanese Resturants in Sunset Park, Brooklyn:0\n",
      "( 50 / 306 ) Japanese Resturants in Greenpoint, Brooklyn:0\n",
      "( 51 / 306 ) Japanese Resturants in Gravesend, Brooklyn:1\n",
      "( 52 / 306 ) Japanese Resturants in Brighton Beach, Brooklyn:0\n",
      "( 53 / 306 ) Japanese Resturants in Sheepshead Bay, Brooklyn:2\n",
      "( 54 / 306 ) Japanese Resturants in Manhattan Terrace, Brooklyn:2\n",
      "( 55 / 306 ) Japanese Resturants in Flatbush, Brooklyn:0\n",
      "( 56 / 306 ) Japanese Resturants in Crown Heights, Brooklyn:3\n",
      "( 57 / 306 ) Japanese Resturants in East Flatbush, Brooklyn:0\n",
      "( 58 / 306 ) Japanese Resturants in Kensington, Brooklyn:1\n",
      "( 59 / 306 ) Japanese Resturants in Windsor Terrace, Brooklyn:0\n",
      "( 60 / 306 ) Japanese Resturants in Prospect Heights, Brooklyn:1\n",
      "( 61 / 306 ) Japanese Resturants in Brownsville, Brooklyn:0\n",
      "( 62 / 306 ) Japanese Resturants in Williamsburg, Brooklyn:2\n",
      "( 63 / 306 ) Japanese Resturants in Bushwick, Brooklyn:1\n",
      "( 64 / 306 ) Japanese Resturants in Bedford Stuyvesant, Brooklyn:1\n",
      "( 65 / 306 ) Japanese Resturants in Brooklyn Heights, Brooklyn:2\n",
      "( 66 / 306 ) Japanese Resturants in Cobble Hill, Brooklyn:2\n",
      "( 67 / 306 ) Japanese Resturants in Carroll Gardens, Brooklyn:0\n",
      "( 68 / 306 ) Japanese Resturants in Red Hook, Brooklyn:0\n",
      "( 69 / 306 ) Japanese Resturants in Gowanus, Brooklyn:0\n",
      "( 70 / 306 ) Japanese Resturants in Fort Greene, Brooklyn:1\n",
      "( 71 / 306 ) Japanese Resturants in Park Slope, Brooklyn:3\n",
      "( 72 / 306 ) Japanese Resturants in Cypress Hills, Brooklyn:0\n",
      "( 73 / 306 ) Japanese Resturants in East New York, Brooklyn:0\n",
      "( 74 / 306 ) Japanese Resturants in Starrett City, Brooklyn:0\n",
      "( 75 / 306 ) Japanese Resturants in Canarsie, Brooklyn:0\n",
      "( 76 / 306 ) Japanese Resturants in Flatlands, Brooklyn:0\n",
      "( 77 / 306 ) Japanese Resturants in Mill Island, Brooklyn:0\n",
      "( 78 / 306 ) Japanese Resturants in Manhattan Beach, Brooklyn:1\n",
      "( 79 / 306 ) Japanese Resturants in Coney Island, Brooklyn:0\n",
      "( 80 / 306 ) Japanese Resturants in Bath Beach, Brooklyn:5\n",
      "( 81 / 306 ) Japanese Resturants in Borough Park, Brooklyn:0\n",
      "( 82 / 306 ) Japanese Resturants in Dyker Heights, Brooklyn:2\n",
      "( 83 / 306 ) Japanese Resturants in Gerritsen Beach, Brooklyn:0\n",
      "( 84 / 306 ) Japanese Resturants in Marine Park, Brooklyn:1\n",
      "( 85 / 306 ) Japanese Resturants in Clinton Hill, Brooklyn:2\n",
      "( 86 / 306 ) Japanese Resturants in Sea Gate, Brooklyn:0\n",
      "( 87 / 306 ) Japanese Resturants in Downtown, Brooklyn:2\n",
      "( 88 / 306 ) Japanese Resturants in Boerum Hill, Brooklyn:2\n",
      "( 89 / 306 ) Japanese Resturants in Prospect Lefferts Gardens, Brooklyn:0\n",
      "( 90 / 306 ) Japanese Resturants in Ocean Hill, Brooklyn:0\n",
      "( 91 / 306 ) Japanese Resturants in City Line, Brooklyn:0\n",
      "( 92 / 306 ) Japanese Resturants in Bergen Beach, Brooklyn:0\n",
      "( 93 / 306 ) Japanese Resturants in Midwood, Brooklyn:2\n",
      "( 94 / 306 ) Japanese Resturants in Prospect Park South, Brooklyn:0\n",
      "( 95 / 306 ) Japanese Resturants in Georgetown, Brooklyn:2\n",
      "( 96 / 306 ) Japanese Resturants in East Williamsburg, Brooklyn:2\n",
      "( 97 / 306 ) Japanese Resturants in North Side, Brooklyn:2\n",
      "( 98 / 306 ) Japanese Resturants in South Side, Brooklyn:1\n",
      "( 99 / 306 ) Japanese Resturants in Ocean Parkway, Brooklyn:0\n",
      "( 100 / 306 ) Japanese Resturants in Fort Hamilton, Brooklyn:4\n",
      "( 101 / 306 ) Japanese Resturants in Chinatown, Manhattan:1\n",
      "( 102 / 306 ) Japanese Resturants in Washington Heights, Manhattan:0\n",
      "( 103 / 306 ) Japanese Resturants in Inwood, Manhattan:0\n",
      "( 104 / 306 ) Japanese Resturants in Hamilton Heights, Manhattan:1\n",
      "( 105 / 306 ) Japanese Resturants in Manhattanville, Manhattan:1\n",
      "( 106 / 306 ) Japanese Resturants in Central Harlem, Manhattan:0\n",
      "( 107 / 306 ) Japanese Resturants in East Harlem, Manhattan:0\n",
      "( 108 / 306 ) Japanese Resturants in Upper East Side, Manhattan:1\n",
      "( 109 / 306 ) Japanese Resturants in Yorkville, Manhattan:3\n",
      "( 110 / 306 ) Japanese Resturants in Lenox Hill, Manhattan:1\n",
      "( 111 / 306 ) Japanese Resturants in Roosevelt Island, Manhattan:1\n",
      "( 112 / 306 ) Japanese Resturants in Upper West Side, Manhattan:1\n",
      "( 113 / 306 ) Japanese Resturants in Lincoln Square, Manhattan:0\n",
      "( 114 / 306 ) Japanese Resturants in Clinton, Manhattan:1\n",
      "( 115 / 306 ) Japanese Resturants in Midtown, Manhattan:2\n",
      "( 116 / 306 ) Japanese Resturants in Murray Hill, Manhattan:4\n",
      "( 117 / 306 ) Japanese Resturants in Chelsea, Manhattan:1\n",
      "( 118 / 306 ) Japanese Resturants in Greenwich Village, Manhattan:0\n",
      "( 119 / 306 ) Japanese Resturants in East Village, Manhattan:3\n",
      "( 120 / 306 ) Japanese Resturants in Lower East Side, Manhattan:2\n",
      "( 121 / 306 ) Japanese Resturants in Tribeca, Manhattan:0\n",
      "( 122 / 306 ) Japanese Resturants in Little Italy, Manhattan:1\n",
      "( 123 / 306 ) Japanese Resturants in Soho, Manhattan:0\n",
      "( 124 / 306 ) Japanese Resturants in West Village, Manhattan:2\n",
      "( 125 / 306 ) Japanese Resturants in Manhattan Valley, Manhattan:1\n",
      "( 126 / 306 ) Japanese Resturants in Morningside Heights, Manhattan:0\n",
      "( 127 / 306 ) Japanese Resturants in Gramercy, Manhattan:2\n",
      "( 128 / 306 ) Japanese Resturants in Battery Park City, Manhattan:1\n",
      "( 129 / 306 ) Japanese Resturants in Financial District, Manhattan:2\n",
      "( 130 / 306 ) Japanese Resturants in Astoria, Queens:0\n",
      "( 131 / 306 ) Japanese Resturants in Woodside, Queens:1\n",
      "( 132 / 306 ) Japanese Resturants in Jackson Heights, Queens:0\n",
      "( 133 / 306 ) Japanese Resturants in Elmhurst, Queens:0\n",
      "( 134 / 306 ) Japanese Resturants in Howard Beach, Queens:1\n",
      "( 135 / 306 ) Japanese Resturants in Corona, Queens:0\n",
      "( 136 / 306 ) Japanese Resturants in Forest Hills, Queens:1\n",
      "( 137 / 306 ) Japanese Resturants in Kew Gardens, Queens:0\n",
      "( 138 / 306 ) Japanese Resturants in Richmond Hill, Queens:0\n",
      "( 139 / 306 ) Japanese Resturants in Flushing, Queens:2\n",
      "( 140 / 306 ) Japanese Resturants in Long Island City, Queens:1\n",
      "( 141 / 306 ) Japanese Resturants in Sunnyside, Queens:2\n",
      "( 142 / 306 ) Japanese Resturants in East Elmhurst, Queens:0\n",
      "( 143 / 306 ) Japanese Resturants in Maspeth, Queens:1\n",
      "( 144 / 306 ) Japanese Resturants in Ridgewood, Queens:0\n",
      "( 145 / 306 ) Japanese Resturants in Glendale, Queens:1\n",
      "( 146 / 306 ) Japanese Resturants in Rego Park, Queens:1\n",
      "( 147 / 306 ) Japanese Resturants in Woodhaven, Queens:0\n",
      "( 148 / 306 ) Japanese Resturants in Ozone Park, Queens:0\n",
      "( 149 / 306 ) Japanese Resturants in South Ozone Park, Queens:0\n",
      "( 150 / 306 ) Japanese Resturants in College Point, Queens:1\n",
      "( 151 / 306 ) Japanese Resturants in Whitestone, Queens:2\n",
      "( 152 / 306 ) Japanese Resturants in Bayside, Queens:0\n",
      "( 153 / 306 ) Japanese Resturants in Auburndale, Queens:1\n",
      "( 154 / 306 ) Japanese Resturants in Little Neck, Queens:1\n",
      "( 155 / 306 ) Japanese Resturants in Douglaston, Queens:1\n",
      "( 156 / 306 ) Japanese Resturants in Glen Oaks, Queens:0\n",
      "( 157 / 306 ) Japanese Resturants in Bellerose, Queens:0\n",
      "( 158 / 306 ) Japanese Resturants in Kew Gardens Hills, Queens:2\n",
      "( 159 / 306 ) Japanese Resturants in Fresh Meadows, Queens:1\n",
      "( 160 / 306 ) Japanese Resturants in Briarwood, Queens:1\n",
      "( 161 / 306 ) Japanese Resturants in Jamaica Center, Queens:2\n",
      "( 162 / 306 ) Japanese Resturants in Oakland Gardens, Queens:0\n",
      "( 163 / 306 ) Japanese Resturants in Queens Village, Queens:0\n",
      "( 164 / 306 ) Japanese Resturants in Hollis, Queens:0\n",
      "( 165 / 306 ) Japanese Resturants in South Jamaica, Queens:0\n",
      "( 166 / 306 ) Japanese Resturants in St. Albans, Queens:0\n",
      "( 167 / 306 ) Japanese Resturants in Rochdale, Queens:0\n",
      "( 168 / 306 ) Japanese Resturants in Springfield Gardens, Queens:0\n",
      "( 169 / 306 ) Japanese Resturants in Cambria Heights, Queens:0\n",
      "( 170 / 306 ) Japanese Resturants in Rosedale, Queens:0\n",
      "( 171 / 306 ) Japanese Resturants in Far Rockaway, Queens:0\n",
      "( 172 / 306 ) Japanese Resturants in Broad Channel, Queens:0\n",
      "( 173 / 306 ) Japanese Resturants in Breezy Point, Queens:0\n",
      "( 174 / 306 ) Japanese Resturants in Steinway, Queens:0\n",
      "( 175 / 306 ) Japanese Resturants in Beechhurst, Queens:2\n",
      "( 176 / 306 ) Japanese Resturants in Bay Terrace, Queens:0\n",
      "( 177 / 306 ) Japanese Resturants in Edgemere, Queens:0\n",
      "( 178 / 306 ) Japanese Resturants in Arverne, Queens:0\n",
      "( 179 / 306 ) Japanese Resturants in Rockaway Beach, Queens:0\n",
      "( 180 / 306 ) Japanese Resturants in Neponsit, Queens:0\n",
      "( 181 / 306 ) Japanese Resturants in Murray Hill, Queens:1\n",
      "( 182 / 306 ) Japanese Resturants in Floral Park, Queens:0\n",
      "( 183 / 306 ) Japanese Resturants in Holliswood, Queens:0\n",
      "( 184 / 306 ) Japanese Resturants in Jamaica Estates, Queens:0\n",
      "( 185 / 306 ) Japanese Resturants in Queensboro Hill, Queens:0\n",
      "( 186 / 306 ) Japanese Resturants in Hillcrest, Queens:2\n",
      "( 187 / 306 ) Japanese Resturants in Ravenswood, Queens:2\n",
      "( 188 / 306 ) Japanese Resturants in Lindenwood, Queens:1\n",
      "( 189 / 306 ) Japanese Resturants in Laurelton, Queens:0\n",
      "( 190 / 306 ) Japanese Resturants in Lefrak City, Queens:2\n",
      "( 191 / 306 ) Japanese Resturants in Belle Harbor, Queens:0\n",
      "( 192 / 306 ) Japanese Resturants in Rockaway Park, Queens:1\n",
      "( 193 / 306 ) Japanese Resturants in Somerville, Queens:0\n",
      "( 194 / 306 ) Japanese Resturants in Brookville, Queens:0\n",
      "( 195 / 306 ) Japanese Resturants in Bellaire, Queens:0\n",
      "( 196 / 306 ) Japanese Resturants in North Corona, Queens:0\n",
      "( 197 / 306 ) Japanese Resturants in Forest Hills Gardens, Queens:3\n",
      "( 198 / 306 ) Japanese Resturants in St. George, Staten Island:0\n",
      "( 199 / 306 ) Japanese Resturants in New Brighton, Staten Island:0\n",
      "( 200 / 306 ) Japanese Resturants in Stapleton, Staten Island:0\n",
      "( 201 / 306 ) Japanese Resturants in Rosebank, Staten Island:0\n",
      "( 202 / 306 ) Japanese Resturants in West Brighton, Staten Island:1\n",
      "( 203 / 306 ) Japanese Resturants in Grymes Hill, Staten Island:0\n",
      "( 204 / 306 ) Japanese Resturants in Todt Hill, Staten Island:0\n",
      "( 205 / 306 ) Japanese Resturants in South Beach, Staten Island:0\n",
      "( 206 / 306 ) Japanese Resturants in Port Richmond, Staten Island:0\n",
      "( 207 / 306 ) Japanese Resturants in Mariner's Harbor, Staten Island:0\n",
      "( 208 / 306 ) Japanese Resturants in Port Ivory, Staten Island:0\n",
      "( 209 / 306 ) Japanese Resturants in Castleton Corners, Staten Island:1\n",
      "( 210 / 306 ) Japanese Resturants in New Springville, Staten Island:0\n",
      "( 211 / 306 ) Japanese Resturants in Travis, Staten Island:0\n",
      "( 212 / 306 ) Japanese Resturants in New Dorp, Staten Island:0\n",
      "( 213 / 306 ) Japanese Resturants in Oakwood, Staten Island:0\n",
      "( 214 / 306 ) Japanese Resturants in Great Kills, Staten Island:2\n"
     ]
    },
    {
     "ename": "KeyError",
     "evalue": "'groups'",
     "output_type": "error",
     "traceback": [
      "\u001b[0;31m---------------------------------------------------------------------------\u001b[0m",
      "\u001b[0;31mKeyError\u001b[0m                                  Traceback (most recent call last)",
      "\u001b[0;32m<ipython-input-12-2434f4a8add2>\u001b[0m in \u001b[0;36m<module>\u001b[0;34m\u001b[0m\n\u001b[1;32m      5\u001b[0m \u001b[0;32mfor\u001b[0m \u001b[0mrow\u001b[0m \u001b[0;32min\u001b[0m \u001b[0mnew_york_data\u001b[0m\u001b[0;34m.\u001b[0m\u001b[0mvalues\u001b[0m\u001b[0;34m.\u001b[0m\u001b[0mtolist\u001b[0m\u001b[0;34m(\u001b[0m\u001b[0;34m)\u001b[0m\u001b[0;34m:\u001b[0m\u001b[0;34m\u001b[0m\u001b[0;34m\u001b[0m\u001b[0m\n\u001b[1;32m      6\u001b[0m     \u001b[0mBorough\u001b[0m\u001b[0;34m,\u001b[0m \u001b[0mNeighborhood\u001b[0m\u001b[0;34m,\u001b[0m \u001b[0mLatitude\u001b[0m\u001b[0;34m,\u001b[0m \u001b[0mLongitude\u001b[0m\u001b[0;34m=\u001b[0m\u001b[0mrow\u001b[0m\u001b[0;34m\u001b[0m\u001b[0;34m\u001b[0m\u001b[0m\n\u001b[0;32m----> 7\u001b[0;31m     \u001b[0mvenues\u001b[0m \u001b[0;34m=\u001b[0m \u001b[0mget_venues\u001b[0m\u001b[0;34m(\u001b[0m\u001b[0mLatitude\u001b[0m\u001b[0;34m,\u001b[0m\u001b[0mLongitude\u001b[0m\u001b[0;34m)\u001b[0m\u001b[0;34m\u001b[0m\u001b[0;34m\u001b[0m\u001b[0m\n\u001b[0m\u001b[1;32m      8\u001b[0m     \u001b[0mjapanese_resturants\u001b[0m\u001b[0;34m=\u001b[0m\u001b[0mvenues\u001b[0m\u001b[0;34m[\u001b[0m\u001b[0mvenues\u001b[0m\u001b[0;34m[\u001b[0m\u001b[0;34m'Category'\u001b[0m\u001b[0;34m]\u001b[0m\u001b[0;34m==\u001b[0m\u001b[0;34m'Japanese Restaurant'\u001b[0m\u001b[0;34m]\u001b[0m\u001b[0;34m\u001b[0m\u001b[0;34m\u001b[0m\u001b[0m\n\u001b[1;32m      9\u001b[0m     \u001b[0mprint\u001b[0m\u001b[0;34m(\u001b[0m\u001b[0;34m'('\u001b[0m\u001b[0;34m,\u001b[0m\u001b[0mcount\u001b[0m\u001b[0;34m,\u001b[0m\u001b[0;34m'/'\u001b[0m\u001b[0;34m,\u001b[0m\u001b[0mlen\u001b[0m\u001b[0;34m(\u001b[0m\u001b[0mnew_york_data\u001b[0m\u001b[0;34m)\u001b[0m\u001b[0;34m,\u001b[0m\u001b[0;34m')'\u001b[0m\u001b[0;34m,\u001b[0m\u001b[0;34m'Japanese Resturants in '\u001b[0m\u001b[0;34m+\u001b[0m\u001b[0mNeighborhood\u001b[0m\u001b[0;34m+\u001b[0m\u001b[0;34m', '\u001b[0m\u001b[0;34m+\u001b[0m\u001b[0mBorough\u001b[0m\u001b[0;34m+\u001b[0m\u001b[0;34m':'\u001b[0m\u001b[0;34m+\u001b[0m\u001b[0mstr\u001b[0m\u001b[0;34m(\u001b[0m\u001b[0mlen\u001b[0m\u001b[0;34m(\u001b[0m\u001b[0mjapanese_resturants\u001b[0m\u001b[0;34m)\u001b[0m\u001b[0;34m)\u001b[0m\u001b[0;34m)\u001b[0m\u001b[0;34m\u001b[0m\u001b[0;34m\u001b[0m\u001b[0m\n",
      "\u001b[0;32m<ipython-input-5-9015e783ff7d>\u001b[0m in \u001b[0;36mget_venues\u001b[0;34m(lat, lng)\u001b[0m\n\u001b[1;32m     20\u001b[0m \u001b[0;34m\u001b[0m\u001b[0m\n\u001b[1;32m     21\u001b[0m     \u001b[0mresults\u001b[0m \u001b[0;34m=\u001b[0m \u001b[0mrequests\u001b[0m\u001b[0;34m.\u001b[0m\u001b[0mget\u001b[0m\u001b[0;34m(\u001b[0m\u001b[0murl\u001b[0m\u001b[0;34m)\u001b[0m\u001b[0;34m.\u001b[0m\u001b[0mjson\u001b[0m\u001b[0;34m(\u001b[0m\u001b[0;34m)\u001b[0m\u001b[0;34m\u001b[0m\u001b[0;34m\u001b[0m\u001b[0m\n\u001b[0;32m---> 22\u001b[0;31m     \u001b[0mvenue_data\u001b[0m\u001b[0;34m=\u001b[0m\u001b[0mresults\u001b[0m\u001b[0;34m[\u001b[0m\u001b[0;34m\"response\"\u001b[0m\u001b[0;34m]\u001b[0m\u001b[0;34m[\u001b[0m\u001b[0;34m'groups'\u001b[0m\u001b[0;34m]\u001b[0m\u001b[0;34m[\u001b[0m\u001b[0;36m0\u001b[0m\u001b[0;34m]\u001b[0m\u001b[0;34m[\u001b[0m\u001b[0;34m'items'\u001b[0m\u001b[0;34m]\u001b[0m\u001b[0;34m\u001b[0m\u001b[0;34m\u001b[0m\u001b[0m\n\u001b[0m\u001b[1;32m     23\u001b[0m     \u001b[0mvenue_details\u001b[0m\u001b[0;34m=\u001b[0m\u001b[0;34m[\u001b[0m\u001b[0;34m]\u001b[0m\u001b[0;34m\u001b[0m\u001b[0;34m\u001b[0m\u001b[0m\n\u001b[1;32m     24\u001b[0m     \u001b[0;32mfor\u001b[0m \u001b[0mrow\u001b[0m \u001b[0;32min\u001b[0m \u001b[0mvenue_data\u001b[0m\u001b[0;34m:\u001b[0m\u001b[0;34m\u001b[0m\u001b[0;34m\u001b[0m\u001b[0m\n",
      "\u001b[0;31mKeyError\u001b[0m: 'groups'"
     ]
    }
   ],
   "source": [
    "column_names=['Borough', 'Neighborhood', 'ID','Name']\n",
    "japanese_rest_ny=pd.DataFrame(columns=column_names)\n",
    "count=1\n",
    "\n",
    "for row in new_york_data.values.tolist():\n",
    "    Borough, Neighborhood, Latitude, Longitude=row\n",
    "    venues = get_venues(Latitude,Longitude)\n",
    "    japanese_resturants=venues[venues['Category']=='Japanese Restaurant']   \n",
    "    print('(',count,'/',len(new_york_data),')','Japanese Resturants in '+Neighborhood+', '+Borough+':'+str(len(japanese_resturants)))\n",
    "    for resturant_detail in japanese_resturants.values.tolist():\n",
    "        id, name , category=resturant_detail\n",
    "        japanese_rest_ny = japanese_rest_ny.append({'Borough': Borough,\n",
    "                                                'Neighborhood': Neighborhood, \n",
    "                                                'ID': id,\n",
    "                                                'Name' : name\n",
    "                                               }, ignore_index=True)\n",
    "    count+=1\n",
    "    "
   ]
  },
  {
   "cell_type": "markdown",
   "metadata": {},
   "source": [
    "Now that we have got all the japanese resturants in new york city , we will analyze it"
   ]
  },
  {
   "cell_type": "code",
   "execution_count": 13,
   "metadata": {},
   "outputs": [
    {
     "data": {
      "text/html": [
       "<div>\n",
       "<style scoped>\n",
       "    .dataframe tbody tr th:only-of-type {\n",
       "        vertical-align: middle;\n",
       "    }\n",
       "\n",
       "    .dataframe tbody tr th {\n",
       "        vertical-align: top;\n",
       "    }\n",
       "\n",
       "    .dataframe thead th {\n",
       "        text-align: right;\n",
       "    }\n",
       "</style>\n",
       "<table border=\"1\" class=\"dataframe\">\n",
       "  <thead>\n",
       "    <tr style=\"text-align: right;\">\n",
       "      <th></th>\n",
       "      <th>Borough</th>\n",
       "      <th>Neighborhood</th>\n",
       "      <th>ID</th>\n",
       "      <th>Name</th>\n",
       "    </tr>\n",
       "  </thead>\n",
       "  <tbody>\n",
       "    <tr>\n",
       "      <th>0</th>\n",
       "      <td>Bronx</td>\n",
       "      <td>Riverdale</td>\n",
       "      <td>503cfaffe4b066d39de5005a</td>\n",
       "      <td>Aoyu Japanese Restaurant</td>\n",
       "    </tr>\n",
       "    <tr>\n",
       "      <th>1</th>\n",
       "      <td>Bronx</td>\n",
       "      <td>Riverdale</td>\n",
       "      <td>4b0b311af964a520642e23e3</td>\n",
       "      <td>Palace of Japan</td>\n",
       "    </tr>\n",
       "    <tr>\n",
       "      <th>2</th>\n",
       "      <td>Bronx</td>\n",
       "      <td>Kingsbridge</td>\n",
       "      <td>503cfaffe4b066d39de5005a</td>\n",
       "      <td>Aoyu Japanese Restaurant</td>\n",
       "    </tr>\n",
       "    <tr>\n",
       "      <th>3</th>\n",
       "      <td>Bronx</td>\n",
       "      <td>Kingsbridge</td>\n",
       "      <td>4b0b311af964a520642e23e3</td>\n",
       "      <td>Palace of Japan</td>\n",
       "    </tr>\n",
       "    <tr>\n",
       "      <th>4</th>\n",
       "      <td>Bronx</td>\n",
       "      <td>City Island</td>\n",
       "      <td>4dbdf3d790a02849cbd675be</td>\n",
       "      <td>Ohana Japanese Habachi Seafood &amp; Steakhouse</td>\n",
       "    </tr>\n",
       "  </tbody>\n",
       "</table>\n",
       "</div>"
      ],
      "text/plain": [
       "  Borough Neighborhood                        ID  \\\n",
       "0   Bronx    Riverdale  503cfaffe4b066d39de5005a   \n",
       "1   Bronx    Riverdale  4b0b311af964a520642e23e3   \n",
       "2   Bronx  Kingsbridge  503cfaffe4b066d39de5005a   \n",
       "3   Bronx  Kingsbridge  4b0b311af964a520642e23e3   \n",
       "4   Bronx  City Island  4dbdf3d790a02849cbd675be   \n",
       "\n",
       "                                          Name  \n",
       "0                     Aoyu Japanese Restaurant  \n",
       "1                              Palace of Japan  \n",
       "2                     Aoyu Japanese Restaurant  \n",
       "3                              Palace of Japan  \n",
       "4  Ohana Japanese Habachi Seafood & Steakhouse  "
      ]
     },
     "execution_count": 13,
     "metadata": {},
     "output_type": "execute_result"
    }
   ],
   "source": [
    "japanese_rest_ny.head()"
   ]
  },
  {
   "cell_type": "code",
   "execution_count": 14,
   "metadata": {},
   "outputs": [
    {
     "data": {
      "text/plain": [
       "(139, 4)"
      ]
     },
     "execution_count": 14,
     "metadata": {},
     "output_type": "execute_result"
    }
   ],
   "source": [
    "japanese_rest_ny.shape"
   ]
  },
  {
   "cell_type": "code",
   "execution_count": 15,
   "metadata": {},
   "outputs": [
    {
     "data": {
      "image/png": "[encoded data removed]",
      "text/plain": [
       "<Figure size 900x500 with 1 Axes>"
      ]
     },
     "metadata": {
      "needs_background": "light"
     },
     "output_type": "display_data"
    }
   ],
   "source": [
    "plt.figure(figsize=(9,5), dpi = 100)\n",
    "\n",
    "plt.title('Number of Japanese Resturants for each Borough in New York City')\n",
    "\n",
    "plt.xlabel('Borough', fontsize = 15)\n",
    "\n",
    "plt.ylabel('No.of Japanese Resturants', fontsize=15)\n",
    "\n",
    "japanese_rest_ny.groupby('Borough')['ID'].count().plot(kind='bar')\n",
    "\n",
    "plt.legend()\n",
    "\n",
    "plt.show()"
   ]
  },
  {
   "cell_type": "markdown",
   "metadata": {},
   "source": [
    "We see that Brooklyn has the largest number of japanese resturants"
   ]
  },
  {
   "cell_type": "code",
   "execution_count": 16,
   "metadata": {},
   "outputs": [
    {
     "data": {
      "image/png": "[encoded data removed]",
      "text/plain": [
       "<Figure size 900x500 with 1 Axes>"
      ]
     },
     "metadata": {
      "needs_background": "light"
     },
     "output_type": "display_data"
    }
   ],
   "source": [
    "plt.figure(figsize=(9,5), dpi = 100)\n",
    "\n",
    "plt.title('Number of Japanese Resturants for each Neighborhood in New York City')\n",
    "\n",
    "plt.xlabel('Neighborhood', fontsize = 15)\n",
    "\n",
    "plt.ylabel('No.of Japanese Resturants', fontsize=15)\n",
    "\n",
    "japanese_rest_ny.groupby('Neighborhood')['ID'].count().nlargest(5).plot(kind='bar')\n",
    "\n",
    "plt.legend()\n",
    "\n",
    "plt.show()"
   ]
  },
  {
   "cell_type": "code",
   "execution_count": 17,
   "metadata": {},
   "outputs": [
    {
     "data": {
      "text/html": [
       "<div>\n",
       "<style scoped>\n",
       "    .dataframe tbody tr th:only-of-type {\n",
       "        vertical-align: middle;\n",
       "    }\n",
       "\n",
       "    .dataframe tbody tr th {\n",
       "        vertical-align: top;\n",
       "    }\n",
       "\n",
       "    .dataframe thead th {\n",
       "        text-align: right;\n",
       "    }\n",
       "</style>\n",
       "<table border=\"1\" class=\"dataframe\">\n",
       "  <thead>\n",
       "    <tr style=\"text-align: right;\">\n",
       "      <th></th>\n",
       "      <th>Borough</th>\n",
       "      <th>Neighborhood</th>\n",
       "      <th>ID</th>\n",
       "      <th>Name</th>\n",
       "    </tr>\n",
       "  </thead>\n",
       "  <tbody>\n",
       "    <tr>\n",
       "      <th>39</th>\n",
       "      <td>Brooklyn</td>\n",
       "      <td>Bath Beach</td>\n",
       "      <td>4bad45c9f964a52089403be3</td>\n",
       "      <td>Chikurin</td>\n",
       "    </tr>\n",
       "    <tr>\n",
       "      <th>40</th>\n",
       "      <td>Brooklyn</td>\n",
       "      <td>Bath Beach</td>\n",
       "      <td>51f42bb3498e2681264e00a1</td>\n",
       "      <td>Kasumi Sushi &amp; BBQ Restaurant</td>\n",
       "    </tr>\n",
       "    <tr>\n",
       "      <th>41</th>\n",
       "      <td>Brooklyn</td>\n",
       "      <td>Bath Beach</td>\n",
       "      <td>513e7ec8e4b07f4fa1b53b3d</td>\n",
       "      <td>Fuki Sushi Japanese Restaurant</td>\n",
       "    </tr>\n",
       "    <tr>\n",
       "      <th>42</th>\n",
       "      <td>Brooklyn</td>\n",
       "      <td>Bath Beach</td>\n",
       "      <td>4c326b9fa0ced13ac126156e</td>\n",
       "      <td>Ichi Sushi</td>\n",
       "    </tr>\n",
       "    <tr>\n",
       "      <th>43</th>\n",
       "      <td>Brooklyn</td>\n",
       "      <td>Bath Beach</td>\n",
       "      <td>4b787863f964a52080d02ee3</td>\n",
       "      <td>Shiki Japanese Hibachi</td>\n",
       "    </tr>\n",
       "  </tbody>\n",
       "</table>\n",
       "</div>"
      ],
      "text/plain": [
       "     Borough Neighborhood                        ID  \\\n",
       "39  Brooklyn   Bath Beach  4bad45c9f964a52089403be3   \n",
       "40  Brooklyn   Bath Beach  51f42bb3498e2681264e00a1   \n",
       "41  Brooklyn   Bath Beach  513e7ec8e4b07f4fa1b53b3d   \n",
       "42  Brooklyn   Bath Beach  4c326b9fa0ced13ac126156e   \n",
       "43  Brooklyn   Bath Beach  4b787863f964a52080d02ee3   \n",
       "\n",
       "                              Name  \n",
       "39                        Chikurin  \n",
       "40   Kasumi Sushi & BBQ Restaurant  \n",
       "41  Fuki Sushi Japanese Restaurant  \n",
       "42                      Ichi Sushi  \n",
       "43          Shiki Japanese Hibachi  "
      ]
     },
     "execution_count": 17,
     "metadata": {},
     "output_type": "execute_result"
    }
   ],
   "source": [
    "japanese_rest_ny[japanese_rest_ny['Neighborhood']=='Bath Beach']"
   ]
  },
  {
   "cell_type": "markdown",
   "metadata": {},
   "source": [
    "Now we will get the ranking of each resturant for further analysis."
   ]
  },
  {
   "cell_type": "code",
   "execution_count": 18,
   "metadata": {},
   "outputs": [
    {
     "name": "stdout",
     "output_type": "stream",
     "text": [
      "                         ID                      Name  Likes  Rating  Tips\n",
      "0  503cfaffe4b066d39de5005a  Aoyu Japanese Restaurant     31     9.0    19\n",
      "( 1 / 139 ) processed\n",
      "                         ID             Name  Likes  Rating  Tips\n",
      "0  4b0b311af964a520642e23e3  Palace of Japan     38     8.9    25\n",
      "( 2 / 139 ) processed\n",
      "                         ID                      Name  Likes  Rating  Tips\n",
      "0  503cfaffe4b066d39de5005a  Aoyu Japanese Restaurant     31     9.0    19\n",
      "( 3 / 139 ) processed\n",
      "                         ID             Name  Likes  Rating  Tips\n",
      "0  4b0b311af964a520642e23e3  Palace of Japan     38     8.9    25\n",
      "( 4 / 139 ) processed\n",
      "                         ID                                         Name  \\\n",
      "0  4dbdf3d790a02849cbd675be  Ohana Japanese Habachi Seafood & Steakhouse   \n",
      "\n",
      "   Likes  Rating  Tips  \n",
      "0     33     7.6    18  \n",
      "( 5 / 139 ) processed\n",
      "                         ID             Name  Likes  Rating  Tips\n",
      "0  4b0b311af964a520642e23e3  Palace of Japan     38     8.9    25\n",
      "( 6 / 139 ) processed\n",
      "                         ID                      Name  Likes  Rating  Tips\n",
      "0  503cfaffe4b066d39de5005a  Aoyu Japanese Restaurant     31     9.0    19\n",
      "( 7 / 139 ) processed\n",
      "Empty DataFrame\n",
      "Columns: [ID, Name, Likes, Rating, Tips]\n",
      "Index: []\n",
      "No data available for id= 5c79cb8360255e002c86ffaf\n",
      "( 8 / 139 ) processed\n",
      "Empty DataFrame\n",
      "Columns: [ID, Name, Likes, Rating, Tips]\n",
      "Index: []\n",
      "No data available for id= 5c79cb8360255e002c86ffaf\n",
      "( 9 / 139 ) processed\n",
      "                         ID   Name  Likes  Rating  Tips\n",
      "0  54e0efc3498e7eda5dff1847  Sarku     16     7.3     6\n",
      "( 10 / 139 ) processed\n",
      "                         ID                        Name  Likes  Rating  Tips\n",
      "0  4b33fd94f964a520842325e3  Arirang Hibachi Steakhouse     76     7.7    21\n",
      "( 11 / 139 ) processed\n",
      "                         ID     Name  Likes  Rating  Tips\n",
      "0  4c2678eef1272d7f43a986c5  Fushimi     74     8.1    36\n",
      "( 12 / 139 ) processed\n",
      "                         ID                            Name  Likes  Rating  \\\n",
      "0  513e7ec8e4b07f4fa1b53b3d  Fuki Sushi Japanese Restaurant     11     7.4   \n",
      "\n",
      "   Tips  \n",
      "0     1  \n",
      "( 13 / 139 ) processed\n",
      "                         ID                           Name  Likes  Rating  \\\n",
      "0  51f42bb3498e2681264e00a1  Kasumi Sushi & BBQ Restaurant      5     7.3   \n",
      "\n",
      "   Tips  \n",
      "0     3  \n",
      "( 14 / 139 ) processed\n",
      "                         ID                    Name  Likes  Rating  Tips\n",
      "0  4b787863f964a52080d02ee3  Shiki Japanese Hibachi      6     6.9     2\n",
      "( 15 / 139 ) processed\n",
      "                         ID        Name  Likes  Rating  Tips\n",
      "0  4c326b9fa0ced13ac126156e  Ichi Sushi     15     6.6     8\n",
      "( 16 / 139 ) processed\n",
      "                         ID       Name  Likes  Rating  Tips\n",
      "0  4d6adae62ea9b1f7cb22ca28  Fuji Hana      9     7.4     4\n",
      "( 17 / 139 ) processed\n",
      "                         ID                            Name  Likes  Rating  \\\n",
      "0  5236313711d25d0f9d3f3b67  Momo Hibachi Steak House & Bar     20     7.9   \n",
      "\n",
      "   Tips  \n",
      "0     5  \n",
      "( 18 / 139 ) processed\n",
      "                         ID                Name  Likes  Rating  Tips\n",
      "0  4d2262470901721ebc95a2a5  Tenda Asian Fusion     25     7.2     6\n",
      "( 19 / 139 ) processed\n",
      "                         ID                          Name  Likes  Rating  Tips\n",
      "0  4baab031f964a520fc7f3ae3  Chikurin Japanese Restaurant     32     7.0    13\n",
      "( 20 / 139 ) processed\n",
      "                         ID    Name  Likes  Rating  Tips\n",
      "0  4bf890acabdaef3b69b7a184  Masake      6     6.4     6\n",
      "( 21 / 139 ) processed\n",
      "                         ID           Name  Likes  Rating  Tips\n",
      "0  5091d1ffe4b0f08bb9df6701  Masago Bistro     12     7.2     7\n",
      "( 22 / 139 ) processed\n",
      "                         ID          Name  Likes  Rating  Tips\n",
      "0  4d1004a56331a0930a505494  Sakura Tokyo     21     7.5    18\n",
      "( 23 / 139 ) processed\n",
      "                         ID        Name  Likes  Rating  Tips\n",
      "0  4e8e51a86c255231f540bad1  Sushi Spot     11     7.1     7\n",
      "( 24 / 139 ) processed\n",
      "                         ID        Name  Likes  Rating  Tips\n",
      "0  4d5c12a01e43236a87eb1583  Sake Sushi     31     7.9    49\n",
      "( 25 / 139 ) processed\n",
      "                         ID   Name  Likes  Rating  Tips\n",
      "0  41478600f964a520c41c1fe3  Geido    243     8.9    82\n",
      "( 26 / 139 ) processed\n",
      "                         ID          Name  Likes  Rating  Tips\n",
      "0  51f9b7b3498eefe896caeb23  Shalom Japan    294     8.2    93\n",
      "( 27 / 139 ) processed\n",
      "                         ID          Name  Likes  Rating  Tips\n",
      "0  4c7f0887fb74236a7727f9b9  Samurai Mama    884     9.1   242\n",
      "( 28 / 139 ) processed\n",
      "                         ID             Name  Likes  Rating  Tips\n",
      "0  59598280a795bd4a3cd8ccc5  Ajihei Bushwick     13     8.3     3\n",
      "( 29 / 139 ) processed\n",
      "                         ID    Name  Likes  Rating  Tips\n",
      "0  5b3bcb69bfc6d0002ca9bf17  Warude     17     7.5     4\n",
      "( 30 / 139 ) processed\n",
      "                         ID             Name  Likes  Rating  Tips\n",
      "0  479ccb47f964a5206b4d1fe3  Iron Chef House    141     8.5    66\n",
      "( 31 / 139 ) processed\n",
      "                         ID    Name  Likes  Rating  Tips\n",
      "0  48a41073f964a52091511fe3  Hibino    464     9.2   155\n",
      "( 32 / 139 ) processed\n",
      "                         ID    Name  Likes  Rating  Tips\n",
      "0  48a41073f964a52091511fe3  Hibino    464     9.2   155\n",
      "( 33 / 139 ) processed\n",
      "                         ID            Name  Likes  Rating  Tips\n",
      "0  4bafd791f964a5203c253ce3  Mitoushi Sushi     47     8.0    30\n",
      "( 34 / 139 ) processed\n",
      "                         ID    Name  Likes  Rating  Tips\n",
      "0  5739c66c498e7ef6085cec4f  Karasu    179     8.8    33\n",
      "( 35 / 139 ) processed\n",
      "                         ID     Name  Likes  Rating  Tips\n",
      "0  5276d39a498eb1a5d90096e4  Katsuei    236     8.9    77\n",
      "( 36 / 139 ) processed\n",
      "                         ID    Name  Likes  Rating  Tips\n",
      "0  3fd66200f964a5208af11ee3  Yamato     45     7.9    30\n",
      "( 37 / 139 ) processed\n",
      "                         ID   Name  Likes  Rating  Tips\n",
      "0  41478600f964a520c41c1fe3  Geido    243     8.9    82\n",
      "( 38 / 139 ) processed\n",
      "                         ID                            Name  Likes  Rating  \\\n",
      "0  5236313711d25d0f9d3f3b67  Momo Hibachi Steak House & Bar     20     7.9   \n",
      "\n",
      "   Tips  \n",
      "0     5  \n",
      "( 39 / 139 ) processed\n",
      "                         ID      Name  Likes  Rating  Tips\n",
      "0  4bad45c9f964a52089403be3  Chikurin     44     7.2    18\n",
      "( 40 / 139 ) processed\n",
      "                         ID                           Name  Likes  Rating  \\\n",
      "0  51f42bb3498e2681264e00a1  Kasumi Sushi & BBQ Restaurant      5     7.3   \n",
      "\n",
      "   Tips  \n",
      "0     3  \n",
      "( 41 / 139 ) processed\n",
      "                         ID                            Name  Likes  Rating  \\\n",
      "0  513e7ec8e4b07f4fa1b53b3d  Fuki Sushi Japanese Restaurant     11     7.4   \n",
      "\n",
      "   Tips  \n",
      "0     1  \n",
      "( 42 / 139 ) processed\n",
      "                         ID        Name  Likes  Rating  Tips\n",
      "0  4c326b9fa0ced13ac126156e  Ichi Sushi     15     6.6     8\n",
      "( 43 / 139 ) processed\n",
      "                         ID                    Name  Likes  Rating  Tips\n",
      "0  4b787863f964a52080d02ee3  Shiki Japanese Hibachi      6     6.9     2\n",
      "( 44 / 139 ) processed\n",
      "                         ID                        Name  Likes  Rating  Tips\n",
      "0  4b33fd94f964a520842325e3  Arirang Hibachi Steakhouse     76     7.7    21\n",
      "( 45 / 139 ) processed\n",
      "                         ID            Name  Likes  Rating  Tips\n",
      "0  538e057d498e5865fbe8e9aa  Hibachi Master      6     7.1     2\n",
      "( 46 / 139 ) processed\n",
      "                         ID    Name  Likes  Rating  Tips\n",
      "0  4c140e42a1010f4742d24b18  Sakura      8     7.7     3\n",
      "( 47 / 139 ) processed\n",
      "                         ID  Name  Likes  Rating  Tips\n",
      "0  591f7c5f35f9836382455eca  U-Gu     24     8.6     5\n",
      "( 48 / 139 ) processed\n",
      "                         ID    Name  Likes  Rating  Tips\n",
      "0  5739c66c498e7ef6085cec4f  Karasu    179     8.8    33\n",
      "( 49 / 139 ) processed\n"
     ]
    }
   ],
   "source": [
    "column_names=['Borough', 'Neighborhood', 'ID','Name','Likes','Rating','Tips']\n",
    "japanese_rest_stats_ny=pd.DataFrame(columns=column_names)\n",
    "count=1\n",
    "\n",
    "\n",
    "for row in japanese_rest_ny.values.tolist():\n",
    "    if count == 50:\n",
    "        break\n",
    "    Borough,Neighborhood,ID,Name=row\n",
    "    try:\n",
    "        venue_details=get_venue_details(ID)\n",
    "        print(venue_details)\n",
    "        id,name,likes,rating,tips=venue_details.values.tolist()[0]\n",
    "    except IndexError:\n",
    "        print('No data available for id=',ID)\n",
    "        # we will assign 0 value for these resturants as they may have been \n",
    "        #recently opened or details does not exist in FourSquare Database\n",
    "        id,name,likes,rating,tips=[0]*5\n",
    "    print('(',count,'/',len(japanese_rest_ny),')','processed')\n",
    "    japanese_rest_stats_ny = japanese_rest_stats_ny.append({'Borough': Borough,\n",
    "                                                'Neighborhood': Neighborhood, \n",
    "                                                'ID': id,\n",
    "                                                'Name' : name,\n",
    "                                                'Likes' : likes,\n",
    "                                                'Rating' : rating,\n",
    "                                                'Tips' : tips\n",
    "                                               }, ignore_index=True)\n",
    "    count+=1"
   ]
  },
  {
   "cell_type": "code",
   "execution_count": 19,
   "metadata": {},
   "outputs": [
    {
     "data": {
      "text/html": [
       "<div>\n",
       "<style scoped>\n",
       "    .dataframe tbody tr th:only-of-type {\n",
       "        vertical-align: middle;\n",
       "    }\n",
       "\n",
       "    .dataframe tbody tr th {\n",
       "        vertical-align: top;\n",
       "    }\n",
       "\n",
       "    .dataframe thead th {\n",
       "        text-align: right;\n",
       "    }\n",
       "</style>\n",
       "<table border=\"1\" class=\"dataframe\">\n",
       "  <thead>\n",
       "    <tr style=\"text-align: right;\">\n",
       "      <th></th>\n",
       "      <th>Borough</th>\n",
       "      <th>Neighborhood</th>\n",
       "      <th>ID</th>\n",
       "      <th>Name</th>\n",
       "      <th>Likes</th>\n",
       "      <th>Rating</th>\n",
       "      <th>Tips</th>\n",
       "    </tr>\n",
       "  </thead>\n",
       "  <tbody>\n",
       "    <tr>\n",
       "      <th>0</th>\n",
       "      <td>Bronx</td>\n",
       "      <td>Riverdale</td>\n",
       "      <td>503cfaffe4b066d39de5005a</td>\n",
       "      <td>Aoyu Japanese Restaurant</td>\n",
       "      <td>31</td>\n",
       "      <td>9.0</td>\n",
       "      <td>19</td>\n",
       "    </tr>\n",
       "    <tr>\n",
       "      <th>1</th>\n",
       "      <td>Bronx</td>\n",
       "      <td>Riverdale</td>\n",
       "      <td>4b0b311af964a520642e23e3</td>\n",
       "      <td>Palace of Japan</td>\n",
       "      <td>38</td>\n",
       "      <td>8.9</td>\n",
       "      <td>25</td>\n",
       "    </tr>\n",
       "    <tr>\n",
       "      <th>2</th>\n",
       "      <td>Bronx</td>\n",
       "      <td>Kingsbridge</td>\n",
       "      <td>503cfaffe4b066d39de5005a</td>\n",
       "      <td>Aoyu Japanese Restaurant</td>\n",
       "      <td>31</td>\n",
       "      <td>9.0</td>\n",
       "      <td>19</td>\n",
       "    </tr>\n",
       "    <tr>\n",
       "      <th>3</th>\n",
       "      <td>Bronx</td>\n",
       "      <td>Kingsbridge</td>\n",
       "      <td>4b0b311af964a520642e23e3</td>\n",
       "      <td>Palace of Japan</td>\n",
       "      <td>38</td>\n",
       "      <td>8.9</td>\n",
       "      <td>25</td>\n",
       "    </tr>\n",
       "    <tr>\n",
       "      <th>4</th>\n",
       "      <td>Bronx</td>\n",
       "      <td>City Island</td>\n",
       "      <td>4dbdf3d790a02849cbd675be</td>\n",
       "      <td>Ohana Japanese Habachi Seafood &amp; Steakhouse</td>\n",
       "      <td>33</td>\n",
       "      <td>7.6</td>\n",
       "      <td>18</td>\n",
       "    </tr>\n",
       "  </tbody>\n",
       "</table>\n",
       "</div>"
      ],
      "text/plain": [
       "  Borough Neighborhood                        ID  \\\n",
       "0   Bronx    Riverdale  503cfaffe4b066d39de5005a   \n",
       "1   Bronx    Riverdale  4b0b311af964a520642e23e3   \n",
       "2   Bronx  Kingsbridge  503cfaffe4b066d39de5005a   \n",
       "3   Bronx  Kingsbridge  4b0b311af964a520642e23e3   \n",
       "4   Bronx  City Island  4dbdf3d790a02849cbd675be   \n",
       "\n",
       "                                          Name Likes  Rating Tips  \n",
       "0                     Aoyu Japanese Restaurant    31     9.0   19  \n",
       "1                              Palace of Japan    38     8.9   25  \n",
       "2                     Aoyu Japanese Restaurant    31     9.0   19  \n",
       "3                              Palace of Japan    38     8.9   25  \n",
       "4  Ohana Japanese Habachi Seafood & Steakhouse    33     7.6   18  "
      ]
     },
     "execution_count": 19,
     "metadata": {},
     "output_type": "execute_result"
    }
   ],
   "source": [
    "japanese_rest_stats_ny.head()"
   ]
  },
  {
   "cell_type": "code",
   "execution_count": 20,
   "metadata": {},
   "outputs": [
    {
     "data": {
      "text/plain": [
       "(49, 7)"
      ]
     },
     "execution_count": 20,
     "metadata": {},
     "output_type": "execute_result"
    }
   ],
   "source": [
    "japanese_rest_stats_ny.shape"
   ]
  },
  {
   "cell_type": "code",
   "execution_count": 21,
   "metadata": {},
   "outputs": [
    {
     "data": {
      "text/plain": [
       "(139, 4)"
      ]
     },
     "execution_count": 21,
     "metadata": {},
     "output_type": "execute_result"
    }
   ],
   "source": [
    "japanese_rest_ny.shape"
   ]
  },
  {
   "cell_type": "markdown",
   "metadata": {},
   "source": [
    "So we got data for all resturants\n",
    "Now lets save this data to a csv sheet. In case we by mistake modify it.\n",
    "As the number of calls to get details for venue are premium call and have limit of 50 per day, we will refer to saved data sheet csv if required"
   ]
  },
  {
   "cell_type": "code",
   "execution_count": 22,
   "metadata": {},
   "outputs": [],
   "source": [
    "japanese_rest_stats_ny.to_csv('japanese_rest_stats_ny.csv', index=False)"
   ]
  },
  {
   "cell_type": "markdown",
   "metadata": {},
   "source": [
    "Lets verify the data from saved csv file"
   ]
  },
  {
   "cell_type": "code",
   "execution_count": 23,
   "metadata": {},
   "outputs": [],
   "source": [
    "japanese_rest_stats_ny_csv=pd.read_csv('japanese_rest_stats_ny.csv')"
   ]
  },
  {
   "cell_type": "code",
   "execution_count": 24,
   "metadata": {},
   "outputs": [
    {
     "data": {
      "text/plain": [
       "(49, 7)"
      ]
     },
     "execution_count": 24,
     "metadata": {},
     "output_type": "execute_result"
    }
   ],
   "source": [
    "japanese_rest_stats_ny_csv.shape"
   ]
  },
  {
   "cell_type": "code",
   "execution_count": 25,
   "metadata": {},
   "outputs": [
    {
     "data": {
      "text/html": [
       "<div>\n",
       "<style scoped>\n",
       "    .dataframe tbody tr th:only-of-type {\n",
       "        vertical-align: middle;\n",
       "    }\n",
       "\n",
       "    .dataframe tbody tr th {\n",
       "        vertical-align: top;\n",
       "    }\n",
       "\n",
       "    .dataframe thead th {\n",
       "        text-align: right;\n",
       "    }\n",
       "</style>\n",
       "<table border=\"1\" class=\"dataframe\">\n",
       "  <thead>\n",
       "    <tr style=\"text-align: right;\">\n",
       "      <th></th>\n",
       "      <th>Borough</th>\n",
       "      <th>Neighborhood</th>\n",
       "      <th>ID</th>\n",
       "      <th>Name</th>\n",
       "      <th>Likes</th>\n",
       "      <th>Rating</th>\n",
       "      <th>Tips</th>\n",
       "    </tr>\n",
       "  </thead>\n",
       "  <tbody>\n",
       "    <tr>\n",
       "      <th>0</th>\n",
       "      <td>Bronx</td>\n",
       "      <td>Riverdale</td>\n",
       "      <td>503cfaffe4b066d39de5005a</td>\n",
       "      <td>Aoyu Japanese Restaurant</td>\n",
       "      <td>31</td>\n",
       "      <td>9.0</td>\n",
       "      <td>19</td>\n",
       "    </tr>\n",
       "    <tr>\n",
       "      <th>1</th>\n",
       "      <td>Bronx</td>\n",
       "      <td>Riverdale</td>\n",
       "      <td>4b0b311af964a520642e23e3</td>\n",
       "      <td>Palace of Japan</td>\n",
       "      <td>38</td>\n",
       "      <td>8.9</td>\n",
       "      <td>25</td>\n",
       "    </tr>\n",
       "    <tr>\n",
       "      <th>2</th>\n",
       "      <td>Bronx</td>\n",
       "      <td>Kingsbridge</td>\n",
       "      <td>503cfaffe4b066d39de5005a</td>\n",
       "      <td>Aoyu Japanese Restaurant</td>\n",
       "      <td>31</td>\n",
       "      <td>9.0</td>\n",
       "      <td>19</td>\n",
       "    </tr>\n",
       "    <tr>\n",
       "      <th>3</th>\n",
       "      <td>Bronx</td>\n",
       "      <td>Kingsbridge</td>\n",
       "      <td>4b0b311af964a520642e23e3</td>\n",
       "      <td>Palace of Japan</td>\n",
       "      <td>38</td>\n",
       "      <td>8.9</td>\n",
       "      <td>25</td>\n",
       "    </tr>\n",
       "    <tr>\n",
       "      <th>4</th>\n",
       "      <td>Bronx</td>\n",
       "      <td>City Island</td>\n",
       "      <td>4dbdf3d790a02849cbd675be</td>\n",
       "      <td>Ohana Japanese Habachi Seafood &amp; Steakhouse</td>\n",
       "      <td>33</td>\n",
       "      <td>7.6</td>\n",
       "      <td>18</td>\n",
       "    </tr>\n",
       "  </tbody>\n",
       "</table>\n",
       "</div>"
      ],
      "text/plain": [
       "  Borough Neighborhood                        ID  \\\n",
       "0   Bronx    Riverdale  503cfaffe4b066d39de5005a   \n",
       "1   Bronx    Riverdale  4b0b311af964a520642e23e3   \n",
       "2   Bronx  Kingsbridge  503cfaffe4b066d39de5005a   \n",
       "3   Bronx  Kingsbridge  4b0b311af964a520642e23e3   \n",
       "4   Bronx  City Island  4dbdf3d790a02849cbd675be   \n",
       "\n",
       "                                          Name  Likes  Rating  Tips  \n",
       "0                     Aoyu Japanese Restaurant     31     9.0    19  \n",
       "1                              Palace of Japan     38     8.9    25  \n",
       "2                     Aoyu Japanese Restaurant     31     9.0    19  \n",
       "3                              Palace of Japan     38     8.9    25  \n",
       "4  Ohana Japanese Habachi Seafood & Steakhouse     33     7.6    18  "
      ]
     },
     "execution_count": 25,
     "metadata": {},
     "output_type": "execute_result"
    }
   ],
   "source": [
    "japanese_rest_stats_ny_csv.head()"
   ]
  },
  {
   "cell_type": "code",
   "execution_count": 26,
   "metadata": {},
   "outputs": [
    {
     "name": "stdout",
     "output_type": "stream",
     "text": [
      "<class 'pandas.core.frame.DataFrame'>\n",
      "RangeIndex: 49 entries, 0 to 48\n",
      "Data columns (total 7 columns):\n",
      "Borough         49 non-null object\n",
      "Neighborhood    49 non-null object\n",
      "ID              49 non-null object\n",
      "Name            49 non-null object\n",
      "Likes           49 non-null object\n",
      "Rating          49 non-null float64\n",
      "Tips            49 non-null object\n",
      "dtypes: float64(1), object(6)\n",
      "memory usage: 2.8+ KB\n"
     ]
    }
   ],
   "source": [
    "japanese_rest_stats_ny.info()"
   ]
  },
  {
   "cell_type": "markdown",
   "metadata": {},
   "source": [
    "We see that values like Likes, Tips are strig values. We would need to convert them into float for further analysis"
   ]
  },
  {
   "cell_type": "code",
   "execution_count": 27,
   "metadata": {},
   "outputs": [],
   "source": [
    "japanese_rest_stats_ny['Likes']=japanese_rest_stats_ny['Likes'].astype('float64')"
   ]
  },
  {
   "cell_type": "code",
   "execution_count": 28,
   "metadata": {},
   "outputs": [],
   "source": [
    "japanese_rest_stats_ny['Tips']=japanese_rest_stats_ny['Tips'].astype('float64')"
   ]
  },
  {
   "cell_type": "code",
   "execution_count": 29,
   "metadata": {},
   "outputs": [
    {
     "name": "stdout",
     "output_type": "stream",
     "text": [
      "<class 'pandas.core.frame.DataFrame'>\n",
      "RangeIndex: 49 entries, 0 to 48\n",
      "Data columns (total 7 columns):\n",
      "Borough         49 non-null object\n",
      "Neighborhood    49 non-null object\n",
      "ID              49 non-null object\n",
      "Name            49 non-null object\n",
      "Likes           49 non-null float64\n",
      "Rating          49 non-null float64\n",
      "Tips            49 non-null float64\n",
      "dtypes: float64(3), object(4)\n",
      "memory usage: 2.8+ KB\n"
     ]
    }
   ],
   "source": [
    "japanese_rest_stats_ny.info()"
   ]
  },
  {
   "cell_type": "markdown",
   "metadata": {},
   "source": [
    "Now the data types looks correct"
   ]
  },
  {
   "cell_type": "code",
   "execution_count": 30,
   "metadata": {},
   "outputs": [
    {
     "data": {
      "text/plain": [
       "Borough                         Brooklyn\n",
       "Neighborhood                Williamsburg\n",
       "ID              4c7f0887fb74236a7727f9b9\n",
       "Name                        Samurai Mama\n",
       "Likes                                884\n",
       "Rating                               9.1\n",
       "Tips                                 242\n",
       "Name: 27, dtype: object"
      ]
     },
     "execution_count": 30,
     "metadata": {},
     "output_type": "execute_result"
    }
   ],
   "source": [
    "japanese_rest_stats_ny.iloc[japanese_rest_stats_ny['Likes'].idxmax()]"
   ]
  },
  {
   "cell_type": "code",
   "execution_count": 31,
   "metadata": {},
   "outputs": [
    {
     "data": {
      "text/plain": [
       "Borough                         Brooklyn\n",
       "Neighborhood            Brooklyn Heights\n",
       "ID              48a41073f964a52091511fe3\n",
       "Name                              Hibino\n",
       "Likes                                464\n",
       "Rating                               9.2\n",
       "Tips                                 155\n",
       "Name: 31, dtype: object"
      ]
     },
     "execution_count": 31,
     "metadata": {},
     "output_type": "execute_result"
    }
   ],
   "source": [
    "japanese_rest_stats_ny.iloc[japanese_rest_stats_ny['Rating'].idxmax()]"
   ]
  },
  {
   "cell_type": "code",
   "execution_count": 32,
   "metadata": {},
   "outputs": [
    {
     "data": {
      "text/plain": [
       "Borough                         Brooklyn\n",
       "Neighborhood                Williamsburg\n",
       "ID              4c7f0887fb74236a7727f9b9\n",
       "Name                        Samurai Mama\n",
       "Likes                                884\n",
       "Rating                               9.1\n",
       "Tips                                 242\n",
       "Name: 27, dtype: object"
      ]
     },
     "execution_count": 32,
     "metadata": {},
     "output_type": "execute_result"
    }
   ],
   "source": [
    "japanese_rest_stats_ny.iloc[japanese_rest_stats_ny['Tips'].idxmax()]"
   ]
  },
  {
   "cell_type": "markdown",
   "metadata": {},
   "source": [
    "Now lets visualize neighborhood with maximum average rating of resturants"
   ]
  },
  {
   "cell_type": "code",
   "execution_count": 33,
   "metadata": {},
   "outputs": [],
   "source": [
    "ny_neighborhood_stats=japanese_rest_stats_ny.groupby('Neighborhood',as_index=False).mean()[['Neighborhood','Rating']]\n",
    "ny_neighborhood_stats.columns=['Neighborhood','Average Rating']"
   ]
  },
  {
   "cell_type": "code",
   "execution_count": 34,
   "metadata": {},
   "outputs": [
    {
     "data": {
      "text/html": [
       "<div>\n",
       "<style scoped>\n",
       "    .dataframe tbody tr th:only-of-type {\n",
       "        vertical-align: middle;\n",
       "    }\n",
       "\n",
       "    .dataframe tbody tr th {\n",
       "        vertical-align: top;\n",
       "    }\n",
       "\n",
       "    .dataframe thead th {\n",
       "        text-align: right;\n",
       "    }\n",
       "</style>\n",
       "<table border=\"1\" class=\"dataframe\">\n",
       "  <thead>\n",
       "    <tr style=\"text-align: right;\">\n",
       "      <th></th>\n",
       "      <th>Neighborhood</th>\n",
       "      <th>Average Rating</th>\n",
       "    </tr>\n",
       "  </thead>\n",
       "  <tbody>\n",
       "    <tr>\n",
       "      <th>25</th>\n",
       "      <td>Spuyten Duyvil</td>\n",
       "      <td>8.950000</td>\n",
       "    </tr>\n",
       "    <tr>\n",
       "      <th>22</th>\n",
       "      <td>Riverdale</td>\n",
       "      <td>8.950000</td>\n",
       "    </tr>\n",
       "    <tr>\n",
       "      <th>16</th>\n",
       "      <td>Kingsbridge</td>\n",
       "      <td>8.950000</td>\n",
       "    </tr>\n",
       "    <tr>\n",
       "      <th>21</th>\n",
       "      <td>Prospect Heights</td>\n",
       "      <td>8.900000</td>\n",
       "    </tr>\n",
       "    <tr>\n",
       "      <th>4</th>\n",
       "      <td>Brooklyn Heights</td>\n",
       "      <td>8.850000</td>\n",
       "    </tr>\n",
       "    <tr>\n",
       "      <th>13</th>\n",
       "      <td>Fort Greene</td>\n",
       "      <td>8.800000</td>\n",
       "    </tr>\n",
       "    <tr>\n",
       "      <th>8</th>\n",
       "      <td>Clinton Hill</td>\n",
       "      <td>8.700000</td>\n",
       "    </tr>\n",
       "    <tr>\n",
       "      <th>26</th>\n",
       "      <td>Williamsburg</td>\n",
       "      <td>8.650000</td>\n",
       "    </tr>\n",
       "    <tr>\n",
       "      <th>9</th>\n",
       "      <td>Cobble Hill</td>\n",
       "      <td>8.600000</td>\n",
       "    </tr>\n",
       "    <tr>\n",
       "      <th>20</th>\n",
       "      <td>Park Slope</td>\n",
       "      <td>8.566667</td>\n",
       "    </tr>\n",
       "  </tbody>\n",
       "</table>\n",
       "</div>"
      ],
      "text/plain": [
       "        Neighborhood  Average Rating\n",
       "25    Spuyten Duyvil        8.950000\n",
       "22         Riverdale        8.950000\n",
       "16       Kingsbridge        8.950000\n",
       "21  Prospect Heights        8.900000\n",
       "4   Brooklyn Heights        8.850000\n",
       "13       Fort Greene        8.800000\n",
       "8       Clinton Hill        8.700000\n",
       "26      Williamsburg        8.650000\n",
       "9        Cobble Hill        8.600000\n",
       "20        Park Slope        8.566667"
      ]
     },
     "execution_count": 34,
     "metadata": {},
     "output_type": "execute_result"
    }
   ],
   "source": [
    "ny_neighborhood_stats.sort_values(['Average Rating'],ascending=False).head(10)"
   ]
  },
  {
   "cell_type": "markdown",
   "metadata": {},
   "source": [
    "Above are the top neighborhoods with top average rating of Japanese resturants"
   ]
  },
  {
   "cell_type": "code",
   "execution_count": 35,
   "metadata": {},
   "outputs": [],
   "source": [
    "ny_borough_stats=japanese_rest_stats_ny.groupby('Borough',as_index=False).mean()[['Borough','Rating']]\n",
    "ny_borough_stats.columns=['Borough','Average Rating']"
   ]
  },
  {
   "cell_type": "code",
   "execution_count": 36,
   "metadata": {},
   "outputs": [
    {
     "data": {
      "text/html": [
       "<div>\n",
       "<style scoped>\n",
       "    .dataframe tbody tr th:only-of-type {\n",
       "        vertical-align: middle;\n",
       "    }\n",
       "\n",
       "    .dataframe tbody tr th {\n",
       "        vertical-align: top;\n",
       "    }\n",
       "\n",
       "    .dataframe thead th {\n",
       "        text-align: right;\n",
       "    }\n",
       "</style>\n",
       "<table border=\"1\" class=\"dataframe\">\n",
       "  <thead>\n",
       "    <tr style=\"text-align: right;\">\n",
       "      <th></th>\n",
       "      <th>Borough</th>\n",
       "      <th>Average Rating</th>\n",
       "    </tr>\n",
       "  </thead>\n",
       "  <tbody>\n",
       "    <tr>\n",
       "      <th>1</th>\n",
       "      <td>Brooklyn</td>\n",
       "      <td>7.80</td>\n",
       "    </tr>\n",
       "    <tr>\n",
       "      <th>0</th>\n",
       "      <td>Bronx</td>\n",
       "      <td>6.86</td>\n",
       "    </tr>\n",
       "  </tbody>\n",
       "</table>\n",
       "</div>"
      ],
      "text/plain": [
       "    Borough  Average Rating\n",
       "1  Brooklyn            7.80\n",
       "0     Bronx            6.86"
      ]
     },
     "execution_count": 36,
     "metadata": {},
     "output_type": "execute_result"
    }
   ],
   "source": [
    "ny_borough_stats.sort_values(['Average Rating'],ascending=False).head()"
   ]
  },
  {
   "cell_type": "markdown",
   "metadata": {},
   "source": [
    "Similarly these are the average rating of Japanese Resturants for each Borough"
   ]
  },
  {
   "cell_type": "markdown",
   "metadata": {},
   "source": [
    "Lets visualize it"
   ]
  },
  {
   "cell_type": "code",
   "execution_count": 37,
   "metadata": {},
   "outputs": [
    {
     "data": {
      "image/png": "[encoded data removed]",
      "text/plain": [
       "<Figure size 900x500 with 1 Axes>"
      ]
     },
     "metadata": {
      "needs_background": "light"
     },
     "output_type": "display_data"
    }
   ],
   "source": [
    "plt.figure(figsize=(9,5), dpi = 100)\n",
    "\n",
    "plt.title('Average rating of Japanese Resturants for each Borough')\n",
    "\n",
    "plt.xlabel('Borough', fontsize = 15)\n",
    "\n",
    "plt.ylabel('Average Rating', fontsize=15)\n",
    "\n",
    "japanese_rest_stats_ny.groupby('Borough').mean()['Rating'].plot(kind='bar')\n",
    "\n",
    "plt.legend()\n",
    "\n",
    "plt.show()"
   ]
  },
  {
   "cell_type": "markdown",
   "metadata": {},
   "source": [
    "We will consider all the neighborhoods with average rating greater or equal 9.0 to visualize on map"
   ]
  },
  {
   "cell_type": "code",
   "execution_count": 38,
   "metadata": {},
   "outputs": [],
   "source": [
    "ny_neighborhood_stats=ny_neighborhood_stats[ny_neighborhood_stats['Average Rating']>=7.0]"
   ]
  },
  {
   "cell_type": "code",
   "execution_count": 39,
   "metadata": {},
   "outputs": [
    {
     "data": {
      "text/html": [
       "<div>\n",
       "<style scoped>\n",
       "    .dataframe tbody tr th:only-of-type {\n",
       "        vertical-align: middle;\n",
       "    }\n",
       "\n",
       "    .dataframe tbody tr th {\n",
       "        vertical-align: top;\n",
       "    }\n",
       "\n",
       "    .dataframe thead th {\n",
       "        text-align: right;\n",
       "    }\n",
       "</style>\n",
       "<table border=\"1\" class=\"dataframe\">\n",
       "  <thead>\n",
       "    <tr style=\"text-align: right;\">\n",
       "      <th></th>\n",
       "      <th>Neighborhood</th>\n",
       "      <th>Average Rating</th>\n",
       "    </tr>\n",
       "  </thead>\n",
       "  <tbody>\n",
       "    <tr>\n",
       "      <th>0</th>\n",
       "      <td>Bath Beach</td>\n",
       "      <td>7.080000</td>\n",
       "    </tr>\n",
       "    <tr>\n",
       "      <th>1</th>\n",
       "      <td>Bay Ridge</td>\n",
       "      <td>7.900000</td>\n",
       "    </tr>\n",
       "    <tr>\n",
       "      <th>2</th>\n",
       "      <td>Bedford Stuyvesant</td>\n",
       "      <td>7.500000</td>\n",
       "    </tr>\n",
       "    <tr>\n",
       "      <th>3</th>\n",
       "      <td>Bensonhurst</td>\n",
       "      <td>7.050000</td>\n",
       "    </tr>\n",
       "    <tr>\n",
       "      <th>4</th>\n",
       "      <td>Brooklyn Heights</td>\n",
       "      <td>8.850000</td>\n",
       "    </tr>\n",
       "    <tr>\n",
       "      <th>5</th>\n",
       "      <td>Bushwick</td>\n",
       "      <td>8.300000</td>\n",
       "    </tr>\n",
       "    <tr>\n",
       "      <th>6</th>\n",
       "      <td>Castle Hill</td>\n",
       "      <td>7.300000</td>\n",
       "    </tr>\n",
       "    <tr>\n",
       "      <th>7</th>\n",
       "      <td>City Island</td>\n",
       "      <td>7.600000</td>\n",
       "    </tr>\n",
       "    <tr>\n",
       "      <th>8</th>\n",
       "      <td>Clinton Hill</td>\n",
       "      <td>8.700000</td>\n",
       "    </tr>\n",
       "    <tr>\n",
       "      <th>9</th>\n",
       "      <td>Cobble Hill</td>\n",
       "      <td>8.600000</td>\n",
       "    </tr>\n",
       "    <tr>\n",
       "      <th>10</th>\n",
       "      <td>Crown Heights</td>\n",
       "      <td>7.266667</td>\n",
       "    </tr>\n",
       "    <tr>\n",
       "      <th>11</th>\n",
       "      <td>Dyker Heights</td>\n",
       "      <td>7.400000</td>\n",
       "    </tr>\n",
       "    <tr>\n",
       "      <th>13</th>\n",
       "      <td>Fort Greene</td>\n",
       "      <td>8.800000</td>\n",
       "    </tr>\n",
       "    <tr>\n",
       "      <th>14</th>\n",
       "      <td>Gravesend</td>\n",
       "      <td>7.400000</td>\n",
       "    </tr>\n",
       "    <tr>\n",
       "      <th>15</th>\n",
       "      <td>Kensington</td>\n",
       "      <td>7.900000</td>\n",
       "    </tr>\n",
       "    <tr>\n",
       "      <th>16</th>\n",
       "      <td>Kingsbridge</td>\n",
       "      <td>8.950000</td>\n",
       "    </tr>\n",
       "    <tr>\n",
       "      <th>17</th>\n",
       "      <td>Manhattan Beach</td>\n",
       "      <td>7.900000</td>\n",
       "    </tr>\n",
       "    <tr>\n",
       "      <th>19</th>\n",
       "      <td>Marine Park</td>\n",
       "      <td>7.700000</td>\n",
       "    </tr>\n",
       "    <tr>\n",
       "      <th>20</th>\n",
       "      <td>Park Slope</td>\n",
       "      <td>8.566667</td>\n",
       "    </tr>\n",
       "    <tr>\n",
       "      <th>21</th>\n",
       "      <td>Prospect Heights</td>\n",
       "      <td>8.900000</td>\n",
       "    </tr>\n",
       "    <tr>\n",
       "      <th>22</th>\n",
       "      <td>Riverdale</td>\n",
       "      <td>8.950000</td>\n",
       "    </tr>\n",
       "    <tr>\n",
       "      <th>24</th>\n",
       "      <td>Sheepshead Bay</td>\n",
       "      <td>7.550000</td>\n",
       "    </tr>\n",
       "    <tr>\n",
       "      <th>25</th>\n",
       "      <td>Spuyten Duyvil</td>\n",
       "      <td>8.950000</td>\n",
       "    </tr>\n",
       "    <tr>\n",
       "      <th>26</th>\n",
       "      <td>Williamsburg</td>\n",
       "      <td>8.650000</td>\n",
       "    </tr>\n",
       "  </tbody>\n",
       "</table>\n",
       "</div>"
      ],
      "text/plain": [
       "          Neighborhood  Average Rating\n",
       "0           Bath Beach        7.080000\n",
       "1            Bay Ridge        7.900000\n",
       "2   Bedford Stuyvesant        7.500000\n",
       "3          Bensonhurst        7.050000\n",
       "4     Brooklyn Heights        8.850000\n",
       "5             Bushwick        8.300000\n",
       "6          Castle Hill        7.300000\n",
       "7          City Island        7.600000\n",
       "8         Clinton Hill        8.700000\n",
       "9          Cobble Hill        8.600000\n",
       "10       Crown Heights        7.266667\n",
       "11       Dyker Heights        7.400000\n",
       "13         Fort Greene        8.800000\n",
       "14           Gravesend        7.400000\n",
       "15          Kensington        7.900000\n",
       "16         Kingsbridge        8.950000\n",
       "17     Manhattan Beach        7.900000\n",
       "19         Marine Park        7.700000\n",
       "20          Park Slope        8.566667\n",
       "21    Prospect Heights        8.900000\n",
       "22           Riverdale        8.950000\n",
       "24      Sheepshead Bay        7.550000\n",
       "25      Spuyten Duyvil        8.950000\n",
       "26        Williamsburg        8.650000"
      ]
     },
     "execution_count": 39,
     "metadata": {},
     "output_type": "execute_result"
    }
   ],
   "source": [
    "ny_neighborhood_stats"
   ]
  },
  {
   "cell_type": "markdown",
   "metadata": {},
   "source": [
    "We will join this dataset to original new york data to get lonitude and latitude"
   ]
  },
  {
   "cell_type": "code",
   "execution_count": 40,
   "metadata": {},
   "outputs": [],
   "source": [
    "ny_neighborhood_stats=pd.merge(ny_neighborhood_stats,new_york_data, on='Neighborhood')"
   ]
  },
  {
   "cell_type": "code",
   "execution_count": 41,
   "metadata": {},
   "outputs": [],
   "source": [
    "ny_neighborhood_stats=ny_neighborhood_stats[['Borough','Neighborhood','Latitude','Longitude','Average Rating']]"
   ]
  },
  {
   "cell_type": "code",
   "execution_count": 42,
   "metadata": {},
   "outputs": [
    {
     "data": {
      "text/html": [
       "<div>\n",
       "<style scoped>\n",
       "    .dataframe tbody tr th:only-of-type {\n",
       "        vertical-align: middle;\n",
       "    }\n",
       "\n",
       "    .dataframe tbody tr th {\n",
       "        vertical-align: top;\n",
       "    }\n",
       "\n",
       "    .dataframe thead th {\n",
       "        text-align: right;\n",
       "    }\n",
       "</style>\n",
       "<table border=\"1\" class=\"dataframe\">\n",
       "  <thead>\n",
       "    <tr style=\"text-align: right;\">\n",
       "      <th></th>\n",
       "      <th>Borough</th>\n",
       "      <th>Neighborhood</th>\n",
       "      <th>Latitude</th>\n",
       "      <th>Longitude</th>\n",
       "      <th>Average Rating</th>\n",
       "    </tr>\n",
       "  </thead>\n",
       "  <tbody>\n",
       "    <tr>\n",
       "      <th>0</th>\n",
       "      <td>Brooklyn</td>\n",
       "      <td>Bath Beach</td>\n",
       "      <td>40.599519</td>\n",
       "      <td>-73.998752</td>\n",
       "      <td>7.080000</td>\n",
       "    </tr>\n",
       "    <tr>\n",
       "      <th>1</th>\n",
       "      <td>Brooklyn</td>\n",
       "      <td>Bay Ridge</td>\n",
       "      <td>40.625801</td>\n",
       "      <td>-74.030621</td>\n",
       "      <td>7.900000</td>\n",
       "    </tr>\n",
       "    <tr>\n",
       "      <th>2</th>\n",
       "      <td>Brooklyn</td>\n",
       "      <td>Bedford Stuyvesant</td>\n",
       "      <td>40.687232</td>\n",
       "      <td>-73.941785</td>\n",
       "      <td>7.500000</td>\n",
       "    </tr>\n",
       "    <tr>\n",
       "      <th>3</th>\n",
       "      <td>Brooklyn</td>\n",
       "      <td>Bensonhurst</td>\n",
       "      <td>40.611009</td>\n",
       "      <td>-73.995180</td>\n",
       "      <td>7.050000</td>\n",
       "    </tr>\n",
       "    <tr>\n",
       "      <th>4</th>\n",
       "      <td>Brooklyn</td>\n",
       "      <td>Brooklyn Heights</td>\n",
       "      <td>40.695864</td>\n",
       "      <td>-73.993782</td>\n",
       "      <td>8.850000</td>\n",
       "    </tr>\n",
       "    <tr>\n",
       "      <th>5</th>\n",
       "      <td>Brooklyn</td>\n",
       "      <td>Bushwick</td>\n",
       "      <td>40.698116</td>\n",
       "      <td>-73.925258</td>\n",
       "      <td>8.300000</td>\n",
       "    </tr>\n",
       "    <tr>\n",
       "      <th>6</th>\n",
       "      <td>Bronx</td>\n",
       "      <td>Castle Hill</td>\n",
       "      <td>40.819014</td>\n",
       "      <td>-73.848027</td>\n",
       "      <td>7.300000</td>\n",
       "    </tr>\n",
       "    <tr>\n",
       "      <th>7</th>\n",
       "      <td>Bronx</td>\n",
       "      <td>City Island</td>\n",
       "      <td>40.847247</td>\n",
       "      <td>-73.786488</td>\n",
       "      <td>7.600000</td>\n",
       "    </tr>\n",
       "    <tr>\n",
       "      <th>8</th>\n",
       "      <td>Brooklyn</td>\n",
       "      <td>Clinton Hill</td>\n",
       "      <td>40.693229</td>\n",
       "      <td>-73.967843</td>\n",
       "      <td>8.700000</td>\n",
       "    </tr>\n",
       "    <tr>\n",
       "      <th>9</th>\n",
       "      <td>Brooklyn</td>\n",
       "      <td>Cobble Hill</td>\n",
       "      <td>40.687920</td>\n",
       "      <td>-73.998561</td>\n",
       "      <td>8.600000</td>\n",
       "    </tr>\n",
       "    <tr>\n",
       "      <th>10</th>\n",
       "      <td>Brooklyn</td>\n",
       "      <td>Crown Heights</td>\n",
       "      <td>40.670829</td>\n",
       "      <td>-73.943291</td>\n",
       "      <td>7.266667</td>\n",
       "    </tr>\n",
       "    <tr>\n",
       "      <th>11</th>\n",
       "      <td>Brooklyn</td>\n",
       "      <td>Dyker Heights</td>\n",
       "      <td>40.619219</td>\n",
       "      <td>-74.019314</td>\n",
       "      <td>7.400000</td>\n",
       "    </tr>\n",
       "    <tr>\n",
       "      <th>12</th>\n",
       "      <td>Brooklyn</td>\n",
       "      <td>Fort Greene</td>\n",
       "      <td>40.688527</td>\n",
       "      <td>-73.972906</td>\n",
       "      <td>8.800000</td>\n",
       "    </tr>\n",
       "    <tr>\n",
       "      <th>13</th>\n",
       "      <td>Brooklyn</td>\n",
       "      <td>Gravesend</td>\n",
       "      <td>40.595260</td>\n",
       "      <td>-73.973471</td>\n",
       "      <td>7.400000</td>\n",
       "    </tr>\n",
       "    <tr>\n",
       "      <th>14</th>\n",
       "      <td>Brooklyn</td>\n",
       "      <td>Kensington</td>\n",
       "      <td>40.642382</td>\n",
       "      <td>-73.980421</td>\n",
       "      <td>7.900000</td>\n",
       "    </tr>\n",
       "    <tr>\n",
       "      <th>15</th>\n",
       "      <td>Bronx</td>\n",
       "      <td>Kingsbridge</td>\n",
       "      <td>40.881687</td>\n",
       "      <td>-73.902818</td>\n",
       "      <td>8.950000</td>\n",
       "    </tr>\n",
       "    <tr>\n",
       "      <th>16</th>\n",
       "      <td>Brooklyn</td>\n",
       "      <td>Manhattan Beach</td>\n",
       "      <td>40.577914</td>\n",
       "      <td>-73.943537</td>\n",
       "      <td>7.900000</td>\n",
       "    </tr>\n",
       "    <tr>\n",
       "      <th>17</th>\n",
       "      <td>Brooklyn</td>\n",
       "      <td>Marine Park</td>\n",
       "      <td>40.609748</td>\n",
       "      <td>-73.931344</td>\n",
       "      <td>7.700000</td>\n",
       "    </tr>\n",
       "    <tr>\n",
       "      <th>18</th>\n",
       "      <td>Brooklyn</td>\n",
       "      <td>Park Slope</td>\n",
       "      <td>40.672321</td>\n",
       "      <td>-73.977050</td>\n",
       "      <td>8.566667</td>\n",
       "    </tr>\n",
       "    <tr>\n",
       "      <th>19</th>\n",
       "      <td>Brooklyn</td>\n",
       "      <td>Prospect Heights</td>\n",
       "      <td>40.676822</td>\n",
       "      <td>-73.964859</td>\n",
       "      <td>8.900000</td>\n",
       "    </tr>\n",
       "    <tr>\n",
       "      <th>20</th>\n",
       "      <td>Bronx</td>\n",
       "      <td>Riverdale</td>\n",
       "      <td>40.890834</td>\n",
       "      <td>-73.912585</td>\n",
       "      <td>8.950000</td>\n",
       "    </tr>\n",
       "    <tr>\n",
       "      <th>21</th>\n",
       "      <td>Brooklyn</td>\n",
       "      <td>Sheepshead Bay</td>\n",
       "      <td>40.586890</td>\n",
       "      <td>-73.943186</td>\n",
       "      <td>7.550000</td>\n",
       "    </tr>\n",
       "    <tr>\n",
       "      <th>22</th>\n",
       "      <td>Bronx</td>\n",
       "      <td>Spuyten Duyvil</td>\n",
       "      <td>40.881395</td>\n",
       "      <td>-73.917190</td>\n",
       "      <td>8.950000</td>\n",
       "    </tr>\n",
       "    <tr>\n",
       "      <th>23</th>\n",
       "      <td>Brooklyn</td>\n",
       "      <td>Williamsburg</td>\n",
       "      <td>40.707144</td>\n",
       "      <td>-73.958115</td>\n",
       "      <td>8.650000</td>\n",
       "    </tr>\n",
       "  </tbody>\n",
       "</table>\n",
       "</div>"
      ],
      "text/plain": [
       "     Borough        Neighborhood   Latitude  Longitude  Average Rating\n",
       "0   Brooklyn          Bath Beach  40.599519 -73.998752        7.080000\n",
       "1   Brooklyn           Bay Ridge  40.625801 -74.030621        7.900000\n",
       "2   Brooklyn  Bedford Stuyvesant  40.687232 -73.941785        7.500000\n",
       "3   Brooklyn         Bensonhurst  40.611009 -73.995180        7.050000\n",
       "4   Brooklyn    Brooklyn Heights  40.695864 -73.993782        8.850000\n",
       "5   Brooklyn            Bushwick  40.698116 -73.925258        8.300000\n",
       "6      Bronx         Castle Hill  40.819014 -73.848027        7.300000\n",
       "7      Bronx         City Island  40.847247 -73.786488        7.600000\n",
       "8   Brooklyn        Clinton Hill  40.693229 -73.967843        8.700000\n",
       "9   Brooklyn         Cobble Hill  40.687920 -73.998561        8.600000\n",
       "10  Brooklyn       Crown Heights  40.670829 -73.943291        7.266667\n",
       "11  Brooklyn       Dyker Heights  40.619219 -74.019314        7.400000\n",
       "12  Brooklyn         Fort Greene  40.688527 -73.972906        8.800000\n",
       "13  Brooklyn           Gravesend  40.595260 -73.973471        7.400000\n",
       "14  Brooklyn          Kensington  40.642382 -73.980421        7.900000\n",
       "15     Bronx         Kingsbridge  40.881687 -73.902818        8.950000\n",
       "16  Brooklyn     Manhattan Beach  40.577914 -73.943537        7.900000\n",
       "17  Brooklyn         Marine Park  40.609748 -73.931344        7.700000\n",
       "18  Brooklyn          Park Slope  40.672321 -73.977050        8.566667\n",
       "19  Brooklyn    Prospect Heights  40.676822 -73.964859        8.900000\n",
       "20     Bronx           Riverdale  40.890834 -73.912585        8.950000\n",
       "21  Brooklyn      Sheepshead Bay  40.586890 -73.943186        7.550000\n",
       "22     Bronx      Spuyten Duyvil  40.881395 -73.917190        8.950000\n",
       "23  Brooklyn        Williamsburg  40.707144 -73.958115        8.650000"
      ]
     },
     "execution_count": 42,
     "metadata": {},
     "output_type": "execute_result"
    }
   ],
   "source": [
    "ny_neighborhood_stats"
   ]
  },
  {
   "cell_type": "markdown",
   "metadata": {},
   "source": [
    "Now we will show this data on a map"
   ]
  },
  {
   "cell_type": "code",
   "execution_count": 43,
   "metadata": {},
   "outputs": [],
   "source": [
    "ny_map = folium.Map(location=geo_location('New York'), zoom_start=12)"
   ]
  },
  {
   "cell_type": "code",
   "execution_count": 44,
   "metadata": {},
   "outputs": [],
   "source": [
    "incidents = folium.map.FeatureGroup()\n",
    "\n",
    "for lat, lng, in ny_neighborhood_stats[['Latitude','Longitude']].values:\n",
    "    incidents.add_child(\n",
    "        folium.CircleMarker(\n",
    "            [lat, lng],\n",
    "            radius=10, \n",
    "            color='yellow',\n",
    "            fill=True,\n",
    "            fill_color='blue',\n",
    "            fill_opacity=0.6\n",
    "        )\n",
    "    )\n"
   ]
  },
  {
   "cell_type": "markdown",
   "metadata": {},
   "source": [
    "Lets add a new field to dataframe for labeling purpose"
   ]
  },
  {
   "cell_type": "code",
   "execution_count": 45,
   "metadata": {},
   "outputs": [],
   "source": [
    "ny_neighborhood_stats['Label']=ny_neighborhood_stats['Neighborhood']+', '+ny_neighborhood_stats['Borough']+'('+ny_neighborhood_stats['Average Rating'].map(str)+')'"
   ]
  },
  {
   "cell_type": "code",
   "execution_count": 46,
   "metadata": {},
   "outputs": [
    {
     "data": {
      "text/html": [
       "<div style=\"width:100%;\"><div style=\"position:relative;width:100%;height:0;padding-bottom:60%;\"><iframe src=\"data:text/html;charset=utf-8;base64,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\" style=\"position:absolute;width:100%;height:100%;left:0;top:0;border:none !important;\" allowfullscreen webkitallowfullscreen mozallowfullscreen></iframe></div></div>"
      ],
      "text/plain": [
       "<folium.folium.Map at 0x7f990b1f4a58>"
      ]
     },
     "execution_count": 46,
     "metadata": {},
     "output_type": "execute_result"
    }
   ],
   "source": [
    "for lat, lng, label in ny_neighborhood_stats[['Latitude','Longitude','Label']].values:\n",
    "    folium.Marker([lat, lng], popup=label).add_to(ny_map)        \n",
    "\n",
    "ny_map.add_child(incidents)"
   ]
  },
  {
   "cell_type": "markdown",
   "metadata": {},
   "source": [
    "Now that we have visualized the Neighborhoods.\n",
    "<br>Lets Visualize Boroughs based on average Rating"
   ]
  },
  {
   "cell_type": "markdown",
   "metadata": {},
   "source": [
    "### Conclusion \n",
    "- Best neighborhoods for Japanese cuisine can be observed easily. \n",
    "- Manhattan have potential japanese Resturant Market/ \n",
    "- Staten Island\tranks last in average rating of japanese Resturants.\n",
    "- Manhattan is the best place to stay if you prefer japanese Cuisine."
   ]
  },
  {
   "cell_type": "markdown",
   "metadata": {},
   "source": [
    "### Limitations \n",
    "- The ranking is purely on basis of rating of resturants\n",
    "- The accuracy of data depends purely depends on the data provided by FourSquare\n",
    "- Could not do analysis of rating, tips and likes on more than 50 neighbours. These are premium calls for FourSquare and can be made only 50/day."
   ]
  },
  {
   "cell_type": "code",
   "execution_count": null,
   "metadata": {},
   "outputs": [],
   "source": []
  }
 ],
 "metadata": {
  "kernelspec": {
   "display_name": "Python 3.6",
   "language": "python",
   "name": "python3"
  },
  "language_info": {
   "codemirror_mode": {
    "name": "ipython",
    "version": 3
   },
   "file_extension": ".py",
   "mimetype": "text/x-python",
   "name": "python",
   "nbconvert_exporter": "python",
   "pygments_lexer": "ipython3",
   "version": "3.6.8"
  }
 },
 "nbformat": 4,
 "nbformat_minor": 2
}
